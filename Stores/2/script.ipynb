{
 "cells": [
  {
   "attachments": {},
   "cell_type": "markdown",
   "metadata": {},
   "source": [
    "1. Make a dictonary of all nodes and their pixels. \n"
   ]
  },
  {
   "cell_type": "code",
   "execution_count": 1,
   "metadata": {},
   "outputs": [],
   "source": [
    "coord_dict = {\"1\": [34, 46], \"2\": [219, 46], \"3\": [410, 46], \"4\": [578, 46], \"5\": [726, 46], \"6\": [801, 46], \"7\": [878, 46], \"8\": [955, 46], \"9\": [34, 125], \"10\": [66, 125], \"11\": [243, 125], \"12\": [410, 125], \"13\": [576, 125], \"14\": [726, 125], \"15\": [801, 125], \"16\": [955, 125], \"17\": [64, 166], \"18\": [65, 204], \"19\": [242, 204], \"20\": [410, 204], \"21\": [576, 204], \"22\": [726, 204], \"23\": [801, 204], \"24\": [879, 204], \"25\": [955, 204], \"26\": [726, 246], \"27\": [41, 321], \"28\": [65, 321], \"29\": [224, 321], \"30\": [410, 321], \"31\": [488, 321], \"32\": [565, 321], \"33\": [576, 321], \"34\": [670, 321], \"35\": [726, 321], \"36\": [801, 321], \"37\": [878, 321], \"38\": [955, 321], \"39\": [41, 435], \"40\": [224, 435], \"41\": [410, 435], \"42\": [670, 439], \"43\": [802, 439], \"44\": [828, 439], \"45\": [879, 439], \"46\": [955, 439], \"47\": [410, 472], \"48\": [487, 472], \"49\": [565, 472], \"50\": [670, 472], \"51\": [41, 489], \"52\": [41, 510], \"53\": [223, 510], \"54\": [410, 510], \"55\": [670, 510], \"56\": [828, 510], \"57\": [955, 510], \"58\": [955, 545], \"59\": [41, 584], \"60\": [223, 584], \"61\": [410, 584], \"62\": [488, 584], \"63\": [509, 584], \"64\": [565, 584], \"65\": [670, 584], \"66\": [829, 584], \"67\": [955, 584], \"68\": [22, 664], \"69\": [133, 664], \"70\": [243, 664], \"71\": [385, 664], \"72\": [448, 664], \"73\": [514, 664], \"74\": [670, 664], \"75\": [828, 664], \"76\": [868, 664], \"77\": [959, 664], \"78\": [22, 744], \"79\": [133, 744], \"80\": [144, 744], \"81\": [243, 744], \"82\": [242, 804], \"83\": [385, 804], \"84\": [514, 804], \"85\": [670, 804], \"86\": [829, 804], \"87\": [960, 804], \"88\": [144, 835], \"89\": [243, 851], \"90\": [144, 880], \"91\": [144, 955], \"92\": [243, 955], \"93\": [384, 955], \"94\": [415, 955], \"95\": [514, 955], \"96\": [654, 955], \"97\": [670, 955], \"98\": [827, 955], \"99\": [895, 955], \"100\": [959, 955]}"
   ]
  },
  {
   "attachments": {},
   "cell_type": "markdown",
   "metadata": {},
   "source": [
    "2. Make a dictonary of all connections as tuples."
   ]
  },
  {
   "cell_type": "code",
   "execution_count": 2,
   "metadata": {},
   "outputs": [],
   "source": [
    "connections = [[1,2],[1,9],[2,3],[3,4],[3,12],[4,5],[5,6],[5,14],[6,7],[6,15],[7,8],[8,16],[9,10],[10,17],[10,11],[11,12],[12,13],[12,20],[13,14],[14,22],[15,23],[16,25],[17,18],[18,19],[18,28],[19,20],[20,21],[20,30],[21,22],[22,26],[23,36],[23,24],[24,25],[24,37],[25,38],[26,35],[27,28],[27,39],[28,29],[29,30],[30,31],[30,41],[31,32],[31,48],[32,33],[32,49],[33,34],[34,35],[34,42],[36,43],[37,45],[38,46],[39,40],[39,51],[40,41],[41,47],[42,50],[42,43],[43,44],[44,45],[45,46],[46,57],[47,54],[48,62],[49,64],[50,55],[51,52],[52,53],[52,59],[53,54],[54,61],[55,65],[55,56],[56,57],[57,58],[58,67],[59,60],[60,61],[61,62],[62,63],[63,64],[64,65],[65,66],[65,74],[66,67],[68,69],[68,78],[69,70],[70,71],[70,81],[71,72],[71,83],[72,73],[73,74],[73,84],[74,75],[74,85],[75,76],[75,86],[76,77],[77,87],[78,79],[79,80],[80,81],[80,88],[81,82],[82,89],[83,93],[84,95],[85,97],[86,98],[87,100],[88,90],[89,92],[90,91],[91,92],[92,93],[93,94],[94,95],[95,96],[96,97],[97,98],[98,99],[99,100]]"
   ]
  },
  {
   "attachments": {},
   "cell_type": "markdown",
   "metadata": {},
   "source": [
    "3. Make a list of all main pathways which boost traffic."
   ]
  },
  {
   "cell_type": "code",
   "execution_count": 3,
   "metadata": {},
   "outputs": [],
   "source": [
    "main_paths = [[9,10],[10,17],[17,18],[18,28],[28,29],[29,30],[31,32],[32,33],[33,34],[34,42],[42,50],[50,55],[55,65],[65,74],[74,73],[73,72],[72,71],[71,81],[81,80],[80,88],[88,90]]"
   ]
  },
  {
   "cell_type": "code",
   "execution_count": 4,
   "metadata": {},
   "outputs": [],
   "source": [
    "access_nodes = {\"Fresh Produce - 1\":84,\"Fresh Produce - 2\":83,\"Fresh Produce - 3\":82,\"Fresh Produce - 4\":94,\"Fresh Produce - 5\":96,\"Meat - 1\":86,\"Meat - 2\":87,\"Meat - 3\":99,\"Dairy - 1\":72,\"Dairy - 2\":76,\"Bakery - 1\":69,\"Bakery - 2\":79,\"Frozen Foods - 1\":85,\"Beauty & Health - 1\":29,\"Beauty & Health - 2\":40,\"Beauty & Health - 3\":53,\"Beauty & Health - 4\":60,\"Beauty & Health - 5\":51,\"Candy - 1\":89,\"Candy - 2\":88,\"Stationary - 1\":47,\"Stationary - 2\":48,\"Stationary - 3\":49,\"Stationary - 4\":50,\"Stationary - 5\":63,\"Grocery - 1\":7,\"Grocery - 2\":15,\"Grocery - 3\":16,\"Grocery - 4\":36,\"Grocery - 5\":37,\"Grocery - 6\":38,\"Grocery - 7\":44,\"Beverages - 1\":26,\"Snacks & Packaged products - 1\":11,\"Snacks & Packaged products - 2\":19,\"Snacks & Packaged products - 3\":29,\"Snacks & Packaged products - 4\":13,\"Snacks & Packaged products - 5\":21,\"Snacks & Packaged products - 6\":33,\"Household and Cleaning - 1\":2,\"Household and Cleaning - 2\":4,\"Pet - 1\":56,\"Pet - 2\":66,\"Pet - 3\":58}"
   ]
  },
  {
   "attachments": {},
   "cell_type": "markdown",
   "metadata": {},
   "source": [
    "4. Make a weighted adjacency Matrix for this network. Reduce weight for main_paths"
   ]
  },
  {
   "cell_type": "code",
   "execution_count": 5,
   "metadata": {},
   "outputs": [],
   "source": [
    "import math\n",
    "import numpy as np \n",
    "def adjmat(coord_dict,connections):\n",
    "\n",
    "    dict_len = len(coord_dict) \n",
    "    adj_mat  = [[0] * dict_len for _ in range(dict_len)]\n",
    "    for i in connections:\n",
    "        x                           =       coord_dict[str(i[0])]\n",
    "        y                           =       coord_dict[str(i[1])]\n",
    "        dist                        =       int((y[0]-x[0])**2+(y[1]-x[1])**2)\n",
    "        dist_sqr                    =       int(math.sqrt(dist))\n",
    "        if [i[0],i[1]] in main_paths:\n",
    "            dist_sqr = 0.75*dist_sqr\n",
    "        adj_mat[i[0]-1][i[1]-1]   =       dist_sqr\n",
    "        adj_mat[i[1]-1][i[0]-1]   =       dist_sqr\n",
    "    \n",
    "    return adj_mat"
   ]
  },
  {
   "attachments": {},
   "cell_type": "markdown",
   "metadata": {},
   "source": [
    "5.Find the ordered node traversal for shortest path given start and end node"
   ]
  },
  {
   "cell_type": "code",
   "execution_count": 6,
   "metadata": {},
   "outputs": [],
   "source": [
    "import heapq\n",
    "\n",
    "def shortest_path(matrix, start, end):\n",
    "    n = len(matrix)\n",
    "    distances = [float('inf')] * n\n",
    "    distances[start] = 0\n",
    "    visited = [False] * n\n",
    "    queue = [(0, start)]\n",
    "    path = {}\n",
    "    heapq.heapify(queue)\n",
    "\n",
    "    while queue:\n",
    "        (dist, node) = heapq.heappop(queue)\n",
    "        if node == end:\n",
    "            break\n",
    "        if not visited[node]:\n",
    "            visited[node] = True\n",
    "            for i in range(n):\n",
    "                if matrix[node][i] != 0:\n",
    "                    new_dist = dist + matrix[node][i]\n",
    "                    if new_dist < distances[i]:\n",
    "                        distances[i] = new_dist\n",
    "                        path[i] = node\n",
    "                        heapq.heappush(queue, (new_dist, i))\n",
    "\n",
    "    shortest_path = [end]\n",
    "    path_tuples = []\n",
    "    while end != start:\n",
    "        shortest_path.append(path[end])\n",
    "        path_tuples.append((path[end], end))\n",
    "        end = path[end]\n",
    "    shortest_path.reverse()\n",
    "    path_tuples.reverse()\n",
    "    return(path_tuples)"
   ]
  },
  {
   "cell_type": "code",
   "execution_count": 7,
   "metadata": {},
   "outputs": [],
   "source": [
    "def shortest_path1(matrix, start, end):\n",
    "    n = len(matrix)\n",
    "    distances = [float('inf')] * n\n",
    "    distances[start] = 0\n",
    "    visited = [False] * n\n",
    "    queue = [(0, start)]\n",
    "    path = {}\n",
    "    heapq.heapify(queue)\n",
    "\n",
    "    while queue:\n",
    "        (dist, node) = heapq.heappop(queue)\n",
    "        if node == end:\n",
    "            break\n",
    "        if not visited[node]:\n",
    "            visited[node] = True\n",
    "            for i in range(n):\n",
    "                if matrix[node][i] != 0:\n",
    "                    new_dist = dist + matrix[node][i]\n",
    "                    if new_dist < distances[i]:\n",
    "                        distances[i] = new_dist\n",
    "                        path[i] = node\n",
    "                        heapq.heappush(queue, (new_dist, i))\n",
    "\n",
    "    shortest_path = []\n",
    "    path_tuples = []\n",
    "    while end != start:\n",
    "        shortest_path.append(path[end])\n",
    "        path_tuples.append((path[end], end))\n",
    "        end = path[end]\n",
    "    shortest_path.reverse()\n",
    "    path_tuples.reverse()\n",
    "    return(shortest_path)\n"
   ]
  },
  {
   "attachments": {},
   "cell_type": "markdown",
   "metadata": {},
   "source": [
    "6. Multipoint path"
   ]
  },
  {
   "cell_type": "code",
   "execution_count": 8,
   "metadata": {},
   "outputs": [],
   "source": [
    "def generate_path(access_points,start,end):\n",
    "    matrix = adjmat(coord_dict,connections)\n",
    "    path = set()\n",
    "    access_points.sort()\n",
    "    for i in range(len(access_points)-1):\n",
    "        temp_path = shortest_path(matrix,access_points[i]-1,access_points[i+1]-1)\n",
    "        for i in temp_path:\n",
    "            path.add(i)\n",
    "    temp_path_start = shortest_path(matrix,start,access_points[0]-1) \n",
    "    temp_path_end = shortest_path(matrix,access_points[-1]-1,end) \n",
    "    for i in temp_path_start + temp_path_end:\n",
    "            path.add(i)\n",
    "    return path"
   ]
  },
  {
   "cell_type": "code",
   "execution_count": 9,
   "metadata": {},
   "outputs": [],
   "source": [
    "def generate_path1(access_points,start,end):\n",
    "    matrix = adjmat(coord_dict,connections)\n",
    "    path = []\n",
    "    access_points.sort()\n",
    "    for i in range(len(access_points)-1):\n",
    "        temp_path = shortest_path1(matrix,access_points[i]-1,access_points[i+1]-1)\n",
    "        for i in temp_path:\n",
    "            path.append(i+1)\n",
    "    temp_path_start = shortest_path1(matrix,start,access_points[0]-1) \n",
    "    temp_path_end = shortest_path1(matrix,access_points[-1]-1,end) \n",
    "    for i in temp_path_start + temp_path_end:\n",
    "            path.append(i+1)\n",
    "    return path"
   ]
  },
  {
   "attachments": {},
   "cell_type": "markdown",
   "metadata": {},
   "source": [
    "7. plot lines between (x,y) and obtain path generated on image"
   ]
  },
  {
   "cell_type": "code",
   "execution_count": 10,
   "metadata": {},
   "outputs": [],
   "source": [
    "import cv2\n",
    "\n",
    "def make_line(path,coord_dict):\n",
    "    img = cv2.imread('./assets/floor plan - with navigation nodes & Access nodes.png')\n",
    "    for (a,b) in path:\n",
    "        cv2.line(img,(coord_dict[str(a+1)][0],coord_dict[str(a+1)][1]),(coord_dict[str(b+1)][0],coord_dict[str(b+1)][1]),(0, 0, 255), 2)\n",
    "    cv2.imwrite(\"./temp_path.png\",img)"
   ]
  },
  {
   "attachments": {},
   "cell_type": "markdown",
   "metadata": {},
   "source": [
    "Driver Code"
   ]
  },
  {
   "cell_type": "code",
   "execution_count": 11,
   "metadata": {},
   "outputs": [],
   "source": [
    "import json\n",
    "#json_file = open('./assets/metadata.json')\n",
    "with open('./assets/metadata.json', 'r') as f:\n",
    "    data = json.load(f)\n",
    "#data = json.loads(json_file)"
   ]
  },
  {
   "cell_type": "code",
   "execution_count": 12,
   "metadata": {},
   "outputs": [],
   "source": [
    "section_list = data['sectionWiseItemList']"
   ]
  },
  {
   "cell_type": "code",
   "execution_count": 13,
   "metadata": {},
   "outputs": [],
   "source": [
    "list_items = [\"Razors\",\"Popcorn\",\"Eye cream\"]\n",
    "section = []\n",
    "for key, value in section_list.items():\n",
    "\tfor i in list_items:\n",
    "\t\tif i in value:\n",
    "\t\t\tsection.append(key)\n",
    "\n",
    "\n",
    "access_points = []\n",
    "for i in section:\n",
    "\taccess_points.append(access_nodes[i])\n",
    "unique_list = list(set(access_points))"
   ]
  },
  {
   "cell_type": "code",
   "execution_count": 14,
   "metadata": {},
   "outputs": [],
   "source": [
    "path = generate_path(access_points,start=0,end=89)\n",
    "make_line(path,coord_dict)"
   ]
  },
  {
   "cell_type": "code",
   "execution_count": 15,
   "metadata": {},
   "outputs": [],
   "source": [
    "path1 = generate_path1(access_points,start=0,end=89)\n",
    "#make_line(path,coord_dict)"
   ]
  },
  {
   "cell_type": "code",
   "execution_count": 16,
   "metadata": {},
   "outputs": [],
   "source": [
    "dest = []\n",
    "for i in path1:\n",
    "\tif i in unique_list:\n",
    "\t\tdest.append(i)"
   ]
  },
  {
   "cell_type": "code",
   "execution_count": 17,
   "metadata": {},
   "outputs": [],
   "source": [
    "unique_dest = []\n",
    "for i in dest:\n",
    "\tif i not in unique_dest:\n",
    "\t\tunique_dest.append(i)"
   ]
  },
  {
   "cell_type": "code",
   "execution_count": 18,
   "metadata": {},
   "outputs": [],
   "source": [
    "my_dict = {}\t\n",
    "sect = []\t\n",
    "for i in unique_dest:\n",
    "\tfor key, value in access_nodes.items():\n",
    "\t\tif value == i:\n",
    "\t\t\tsect.append(key)\n"
   ]
  },
  {
   "cell_type": "code",
   "execution_count": 19,
   "metadata": {},
   "outputs": [
    {
     "name": "stdout",
     "output_type": "stream",
     "text": [
      "{1: {'item': ['Popcorn'], 'path': [1, 9, 10, 11]}, 2: {'item': ['Eye cream', 'Razors'], 'path': [11, 10, 17, 18, 28, 27, 39, 51, 52, 53]}, 'billing': {'item': 'None', 'path': [53, 54, 61, 62, 63, 64, 65, 74, 73, 72, 71, 70, 81, 80, 88, 90]}}\n"
     ]
    }
   ],
   "source": [
    "my_dict = {}\t\n",
    "sect = []\t\n",
    "for i in unique_dest:\n",
    "\tfor key, value in access_nodes.items():\n",
    "\t\tif value == i:\n",
    "\t\t\tsect.append(key)\n",
    "n = len(unique_dest)\n",
    "for i in range(n):\n",
    "\tinfo = {}\n",
    "\titem_list = []\n",
    "\tpath_list = []\n",
    "\tlist1 = []\n",
    "\tfor value in section_list[sect[i]]:\n",
    "\t\tfor j in list_items:\n",
    "\t\t\tif j in value:\n",
    "\t\t\t\titem_list.append(j)\n",
    "\tinfo[\"item\"] = item_list\n",
    "\tlist1.append(access_points[i])\n",
    "\tif i == 0:\n",
    "\t\tpath_list = generate_path1(list1, start = 0, end = unique_dest[0] - 1)\n",
    "\t\tpath_list.append(unique_dest[0])\n",
    "\telse:\n",
    "\t\tpath_list = generate_path1(list1,start = unique_dest[i-1] - 1 ,end = unique_dest[i] - 1)\n",
    "\t\tpath_list.append(unique_dest[i])\n",
    "\t\n",
    "\tinfo[\"path\"] = path_list\n",
    "\tmy_dict[i+1] = info\n",
    "list2 = []\n",
    "list2.append(90)\n",
    "path1 = generate_path1(list2,start = unique_dest[n-1] - 1,end = 89)\n",
    "path1.append(90)\n",
    "my_dict[\"billing\"] = {\"item\": \"None\", \"path\":path1}\n",
    "print(my_dict)"
   ]
  },
  {
   "cell_type": "code",
   "execution_count": 20,
   "metadata": {},
   "outputs": [],
   "source": [
    "import json\n",
    "with open('path_item_dict.json', 'w') as f:\n",
    "    json.dump(my_dict,f)"
   ]
  }
 ],
 "metadata": {
  "kernelspec": {
   "display_name": "Python 3",
   "language": "python",
   "name": "python3"
  },
  "language_info": {
   "codemirror_mode": {
    "name": "ipython",
    "version": 3
   },
   "file_extension": ".py",
   "mimetype": "text/x-python",
   "name": "python",
   "nbconvert_exporter": "python",
   "pygments_lexer": "ipython3",
   "version": "3.10.4"
  },
  "orig_nbformat": 4,
  "vscode": {
   "interpreter": {
    "hash": "916dbcbb3f70747c44a77c7bcd40155683ae19c65e1c03b4aa3499c5328201f1"
   }
  }
 },
 "nbformat": 4,
 "nbformat_minor": 2
}
