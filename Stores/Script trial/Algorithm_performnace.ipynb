{
 "cells": [
  {
   "attachments": {},
   "cell_type": "markdown",
   "metadata": {},
   "source": [
    "1. Make a dictonary of all nodes and their pixels. \n"
   ]
  },
  {
   "cell_type": "code",
   "execution_count": 21,
   "metadata": {},
   "outputs": [],
   "source": [
    "coord_dict = {\"1\": [34, 46], \"2\": [219, 46], \"3\": [410, 46], \"4\": [578, 46], \"5\": [726, 46], \"6\": [801, 46], \"7\": [878, 46], \"8\": [955, 46], \"9\": [34, 125], \"10\": [66, 125], \"11\": [243, 125], \"12\": [410, 125], \"13\": [576, 125], \"14\": [726, 125], \"15\": [801, 125], \"16\": [955, 125], \"17\": [64, 166], \"18\": [65, 204], \"19\": [242, 204], \"20\": [410, 204], \"21\": [576, 204], \"22\": [726, 204], \"23\": [801, 204], \"24\": [879, 204], \"25\": [955, 204], \"26\": [726, 246], \"27\": [41, 321], \"28\": [65, 321], \"29\": [224, 321], \"30\": [410, 321], \"31\": [488, 321], \"32\": [565, 321], \"33\": [576, 321], \"34\": [670, 321], \"35\": [726, 321], \"36\": [801, 321], \"37\": [878, 321], \"38\": [955, 321], \"39\": [41, 435], \"40\": [224, 435], \"41\": [410, 435], \"42\": [670, 439], \"43\": [802, 439], \"44\": [828, 439], \"45\": [879, 439], \"46\": [955, 439], \"47\": [410, 472], \"48\": [487, 472], \"49\": [565, 472], \"50\": [670, 472], \"51\": [41, 489], \"52\": [41, 510], \"53\": [223, 510], \"54\": [410, 510], \"55\": [670, 510], \"56\": [828, 510], \"57\": [955, 510], \"58\": [955, 545], \"59\": [41, 584], \"60\": [223, 584], \"61\": [410, 584], \"62\": [488, 584], \"63\": [509, 584], \"64\": [565, 584], \"65\": [670, 584], \"66\": [829, 584], \"67\": [955, 584], \"68\": [22, 664], \"69\": [133, 664], \"70\": [243, 664], \"71\": [385, 664], \"72\": [448, 664], \"73\": [514, 664], \"74\": [670, 664], \"75\": [828, 664], \"76\": [868, 664], \"77\": [959, 664], \"78\": [22, 744], \"79\": [133, 744], \"80\": [144, 744], \"81\": [243, 744], \"82\": [242, 804], \"83\": [385, 804], \"84\": [514, 804], \"85\": [670, 804], \"86\": [829, 804], \"87\": [960, 804], \"88\": [144, 835], \"89\": [243, 851], \"90\": [144, 880], \"91\": [144, 955], \"92\": [243, 955], \"93\": [384, 955], \"94\": [415, 955], \"95\": [514, 955], \"96\": [654, 955], \"97\": [670, 955], \"98\": [827, 955], \"99\": [895, 955], \"100\": [959, 955]}"
   ]
  },
  {
   "attachments": {},
   "cell_type": "markdown",
   "metadata": {},
   "source": [
    "2. Make a dictonary of all connections as tuples."
   ]
  },
  {
   "cell_type": "code",
   "execution_count": 22,
   "metadata": {},
   "outputs": [],
   "source": [
    "connections = [[1,2],[1,9],[2,3],[3,4],[3,12],[4,5],[5,6],[5,14],[6,7],[6,15],[7,8],[8,16],[9,10],[10,17],[10,11],[11,12],[12,13],[12,20],[13,14],[14,22],[15,23],[16,25],[17,18],[18,19],[18,28],[19,20],[20,21],[20,30],[21,22],[22,26],[23,36],[23,24],[24,25],[24,37],[25,38],[26,35],[27,28],[27,39],[28,29],[29,30],[30,31],[30,41],[31,32],[31,48],[32,33],[32,49],[33,34],[34,35],[34,42],[36,43],[37,45],[38,46],[39,40],[39,51],[40,41],[41,47],[42,50],[42,43],[43,44],[44,45],[45,46],[46,57],[47,54],[48,62],[49,64],[50,55],[51,52],[52,53],[52,59],[53,54],[54,61],[55,65],[55,56],[56,57],[57,58],[58,67],[59,60],[60,61],[61,62],[62,63],[63,64],[64,65],[65,66],[65,74],[66,67],[68,69],[68,78],[69,70],[70,71],[70,81],[71,72],[71,83],[72,73],[73,74],[73,84],[74,75],[74,85],[75,76],[75,86],[76,77],[77,87],[78,79],[79,80],[80,81],[80,88],[81,82],[82,89],[83,93],[84,95],[85,97],[86,98],[87,100],[88,90],[89,92],[90,91],[91,92],[92,93],[93,94],[94,95],[95,96],[96,97],[97,98],[98,99],[99,100]]"
   ]
  },
  {
   "attachments": {},
   "cell_type": "markdown",
   "metadata": {},
   "source": [
    "3. Make a list of all main pathways which boost traffic."
   ]
  },
  {
   "cell_type": "code",
   "execution_count": 23,
   "metadata": {},
   "outputs": [],
   "source": [
    "main_paths = [[9,10],[10,17],[17,18],[18,28],[28,29],[29,30],[31,32],[32,33],[33,34],[34,42],[42,50],[50,55],[55,65],[65,74],[74,73],[73,72],[72,71],[71,81],[81,80],[80,88],[88,90]]"
   ]
  },
  {
   "cell_type": "code",
   "execution_count": 24,
   "metadata": {},
   "outputs": [],
   "source": [
    "access_nodes = {\"Fresh Produce - 1\":84,\"Fresh Produce - 2\":83,\"Fresh Produce - 3\":82,\"Fresh Produce - 4\":94,\"Fresh Produce - 5\":96,\"Meat - 1\":86,\"Meat - 2\":87,\"Meat - 3\":99,\"Dairy - 1\":72,\"Dairy - 2\":76,\"Bakery - 1\":69,\"Bakery - 2\":79,\"Frozen Foods - 1\":85,\"Beauty & Health - 1\":29,\"Beauty & Health - 2\":40,\"Beauty & Health - 3\":53,\"Beauty & Health - 4\":60,\"Beauty & Health - 5\":51,\"Candy - 1\":89,\"Candy - 2\":88,\"Stationary - 1\":47,\"Stationary - 2\":48,\"Stationary - 3\":49,\"Stationary - 4\":50,\"Stationary - 5\":63,\"Grocery - 1\":7,\"Grocery - 2\":15,\"Grocery - 3\":16,\"Grocery - 4\":36,\"Grocery - 5\":37,\"Grocery - 6\":38,\"Grocery - 7\":44,\"Beverages - 1\":26,\"Snacks & Packaged products - 1\":11,\"Snacks & Packaged products - 2\":19,\"Snacks & Packaged products - 3\":29,\"Snacks & Packaged products - 4\":13,\"Snacks & Packaged products - 5\":21,\"Snacks & Packaged products - 6\":33,\"Household and Cleaning - 1\":2,\"Household and Cleaning - 2\":4,\"Pet - 1\":56,\"Pet - 2\":66,\"Pet - 3\":58}"
   ]
  },
  {
   "attachments": {},
   "cell_type": "markdown",
   "metadata": {},
   "source": [
    "4. Make a weighted adjacency Matrix for this network. Reduce weight for main_paths"
   ]
  },
  {
   "cell_type": "code",
   "execution_count": 25,
   "metadata": {},
   "outputs": [],
   "source": [
    "import math\n",
    "import numpy as np \n",
    "def adjmat(coord_dict,connections):\n",
    "\n",
    "    dict_len = len(coord_dict) \n",
    "    adj_mat  = [[0] * dict_len for _ in range(dict_len)]\n",
    "    for i in connections:\n",
    "        x                           =       coord_dict[str(i[0])]\n",
    "        y                           =       coord_dict[str(i[1])]\n",
    "        dist                        =       int((y[0]-x[0])**2+(y[1]-x[1])**2)\n",
    "        dist_sqr                    =       int(math.sqrt(dist))\n",
    "        if [i[0],i[1]] in main_paths:\n",
    "            dist_sqr = 0.75*dist_sqr\n",
    "        adj_mat[i[0]-1][i[1]-1]   =       dist_sqr\n",
    "        adj_mat[i[1]-1][i[0]-1]   =       dist_sqr\n",
    "    \n",
    "    return adj_mat"
   ]
  },
  {
   "attachments": {},
   "cell_type": "markdown",
   "metadata": {},
   "source": [
    "5.Find the ordered node traversal for shortest path given start and end node"
   ]
  },
  {
   "cell_type": "code",
   "execution_count": null,
   "metadata": {},
   "outputs": [],
   "source": []
  },
  {
   "attachments": {},
   "cell_type": "markdown",
   "metadata": {},
   "source": [
    "6. Multipoint path"
   ]
  },
  {
   "attachments": {},
   "cell_type": "markdown",
   "metadata": {},
   "source": [
    "7. plot lines between (x,y) and obtain path generated on image"
   ]
  },
  {
   "cell_type": "code",
   "execution_count": 26,
   "metadata": {},
   "outputs": [],
   "source": [
    "import cv2\n",
    "\n",
    "def make_line(path,coord_dict):\n",
    "    img = cv2.imread('./floor plan - with navigation nodes & Access nodes.png')\n",
    "    for (a,b) in path:\n",
    "        cv2.line(img,(coord_dict[str(a+1)][0],coord_dict[str(a+1)][1]),(coord_dict[str(b+1)][0],coord_dict[str(b+1)][1]),(0, 0, 255), 2)\n",
    "    cv2.imwrite(\"./temp_path.png\",img)"
   ]
  },
  {
   "attachments": {},
   "cell_type": "markdown",
   "metadata": {},
   "source": [
    "Driver Code"
   ]
  },
  {
   "cell_type": "code",
   "execution_count": 27,
   "metadata": {},
   "outputs": [],
   "source": [
    "import json\n",
    "#json_file = open('./assets/metadata.json')\n",
    "with open('./metadata.json', 'r') as f:\n",
    "    data = json.load(f)\n",
    "#data = json.loads(json_file)"
   ]
  },
  {
   "cell_type": "code",
   "execution_count": 28,
   "metadata": {},
   "outputs": [],
   "source": [
    "section_list = data['sectionWiseItemList']"
   ]
  },
  {
   "cell_type": "code",
   "execution_count": 29,
   "metadata": {},
   "outputs": [
    {
     "name": "stdout",
     "output_type": "stream",
     "text": [
      "['Beauty & Health - 3', 'Beauty & Health - 3', 'Candy - 2', 'Beverages - 1', 'Snacks & Packaged products - 1']\n",
      "[53, 53, 88, 26, 11]\n",
      "['Fresh Produce - 1', 'Fresh Produce - 3', 'Meat - 1', 'Dairy - 1', 'Grocery - 1', 'Snacks & Packaged products - 4']\n",
      "[84, 82, 86, 72, 7, 13]\n",
      "['Fresh Produce - 4', 'Bakery - 1', 'Frozen Foods - 1', 'Beauty & Health - 4', 'Candy - 1', 'Candy - 2', 'Stationary - 1', 'Stationary - 2', 'Grocery - 3', 'Grocery - 5', 'Grocery - 7', 'Snacks & Packaged products - 2', 'Snacks & Packaged products - 6', 'Household and Cleaning - 1', 'Household and Cleaning - 2', 'Pet - 1', 'Pet - 3']\n",
      "[94, 69, 85, 60, 89, 88, 47, 48, 16, 37, 44, 19, 33, 2, 4, 56, 58]\n",
      "['Fresh Produce - 2', 'Meat - 1', 'Dairy - 1', 'Bakery - 1', 'Bakery - 1', 'Beauty & Health - 1', 'Beauty & Health - 2', 'Stationary - 2', 'Snacks & Packaged products - 3']\n",
      "[83, 86, 72, 69, 69, 29, 40, 48, 29]\n",
      "['Fresh Produce - 2', 'Meat - 2', 'Bakery - 1', 'Candy - 1', 'Grocery - 1', 'Beverages - 1', 'Snacks & Packaged products - 3', 'Snacks & Packaged products - 5', 'Snacks & Packaged products - 6']\n",
      "[83, 87, 69, 89, 7, 26, 29, 21, 33]\n"
     ]
    }
   ],
   "source": [
    "list_items = [[\"Razors\",\"Chips\",\"Eye cream\",\"Juice\", \"Mints\"],\n",
    "              [\"Apples\",\"Lemon\",\"Beef\",\"Milk\",\"Oatmeal\"],\n",
    "              [\"Mushrooms\",\"Bagels\",\"Frozen fries\",\"Probiotics\",\"Gummy bears\",\"Markers\",\"Erasers\",\"Honey\",\"Mayonnaise\",\"Cake Powder\",\"Nutella\",\"Nuts\",\"Trash bags\",\"Batteries\",\"Dog food\",\"Air pumps\"],\n",
    "              [\"Corn\",\"Lamb\",\"Butter\",\"Buns\",\"Conditioner\",\"Toothpaste\",\"Sharpies\",\"Muffins\"],\n",
    "              [\"Garlic\",\"Quail\",\"Donuts\",\"Sour gummies\",\"Rice\",\"Tea\",\"Jelly\"]]\n",
    "access = []\n",
    "for i in list_items:\n",
    "\tsection = []\n",
    "\tfor key, value in section_list.items():\n",
    "\t\tfor j in i:\n",
    "\t\t\tif j in value:\n",
    "\t\t\t\tsection.append(key)\n",
    "\tprint(section)\n",
    "\n",
    "\taccess_points = []\n",
    "\tfor j in section:\n",
    "\t\taccess_points.append(access_nodes[j])\n",
    "\tunique_list = list(set(access_points))\n",
    "\tprint(access_points)\n",
    "\taccess.append(access_points)"
   ]
  },
  {
   "cell_type": "code",
   "execution_count": 30,
   "metadata": {},
   "outputs": [
    {
     "data": {
      "text/plain": [
       "[[53, 53, 88, 26, 11],\n",
       " [84, 82, 86, 72, 7, 13],\n",
       " [94, 69, 85, 60, 89, 88, 47, 48, 16, 37, 44, 19, 33, 2, 4, 56, 58],\n",
       " [83, 86, 72, 69, 69, 29, 40, 48, 29],\n",
       " [83, 87, 69, 89, 7, 26, 29, 21, 33]]"
      ]
     },
     "execution_count": 30,
     "metadata": {},
     "output_type": "execute_result"
    }
   ],
   "source": [
    "access"
   ]
  },
  {
   "cell_type": "code",
   "execution_count": 31,
   "metadata": {},
   "outputs": [],
   "source": [
    "def generate_path_bellman(access_points,start,end):\n",
    "    matrix = adjmat(coord_dict,connections)\n",
    "    path = set()\n",
    "    access_points.sort()\n",
    "    for i in range(len(access_points)-1):\n",
    "        temp_path = bellman_ford(matrix,access_points[i]-1,access_points[i+1]-1)\n",
    "        for i in temp_path:\n",
    "            path.add(i)\n",
    "    temp_path_start = bellman_ford(matrix,start,access_points[0]-1) \n",
    "    temp_path_end = bellman_ford(matrix,access_points[-1]-1,end) \n",
    "    for i in temp_path_start + temp_path_end:\n",
    "            path.add(i)\n",
    "    return path\n",
    "\n",
    "def bellman_ford(matrix, start, end):\n",
    "    n = len(matrix)\n",
    "    distances = [float('inf')] * n\n",
    "    distances[start] = 0\n",
    "    path = {}\n",
    "\n",
    "    for _ in range(n - 1):\n",
    "        for u in range(n):\n",
    "            for v in range(n):\n",
    "                if matrix[u][v] != 0 and distances[u] + matrix[u][v] < distances[v]:\n",
    "                    distances[v] = distances[u] + matrix[u][v]\n",
    "                    path[v] = u\n",
    "\n",
    "    shortest_path = [end]\n",
    "    path_tuples = []\n",
    "    while end != start:\n",
    "        shortest_path.append(path[end])\n",
    "        path_tuples.append((path[end], end))\n",
    "        end = path[end]\n",
    "    shortest_path.reverse()\n",
    "    path_tuples.reverse()\n",
    "\n",
    "    return path_tuples\n"
   ]
  },
  {
   "cell_type": "code",
   "execution_count": 32,
   "metadata": {},
   "outputs": [],
   "source": [
    "def generate_path_floyd(access_points, start, end):\n",
    "    matrix = adjmat(coord_dict, connections)\n",
    "    path = set()\n",
    "    access_points.sort()\n",
    "    for i in range(len(access_points)-1):\n",
    "        temp_path = floyd_warshall(matrix, access_points[i]-1, access_points[i+1]-1)\n",
    "        for i in temp_path:\n",
    "            path.add(i+1)\n",
    "    temp_path_start = floyd_warshall(matrix, start, access_points[0]-1) \n",
    "    temp_path_end = floyd_warshall(matrix, access_points[-1]-1, end) \n",
    "    for i in temp_path_start + temp_path_end:\n",
    "            path.add(i+1)\n",
    "    return path\n",
    "\n",
    "def floyd_warshall(matrix, start, end):\n",
    "    n = len(matrix)\n",
    "    dist = [[float('inf') for _ in range(n)] for _ in range(n)]\n",
    "    next_vertex = [[None for _ in range(n)] for _ in range(n)]\n",
    "\n",
    "    for i in range(n):\n",
    "        for j in range(n):\n",
    "            if i == j:\n",
    "                dist[i][j] = 0\n",
    "                next_vertex[i][j] = j\n",
    "            elif matrix[i][j] != 0:\n",
    "                dist[i][j] = matrix[i][j]\n",
    "                next_vertex[i][j] = j\n",
    "\n",
    "    for k in range(n):\n",
    "        for i in range(n):\n",
    "            for j in range(n):\n",
    "                if dist[i][k] + dist[k][j] < dist[i][j]:\n",
    "                    dist[i][j] = dist[i][k] + dist[k][j]\n",
    "                    next_vertex[i][j] = next_vertex[i][k]\n",
    "\n",
    "    if dist[start][end] == float('inf'):\n",
    "        return []\n",
    "\n",
    "    path = [start]\n",
    "    while start != end:\n",
    "        start = next_vertex[start][end]\n",
    "        path.append(start)\n",
    "\n",
    "    return path"
   ]
  },
  {
   "cell_type": "code",
   "execution_count": 33,
   "metadata": {},
   "outputs": [],
   "source": [
    "def generate_path_dijkstra(access_points, start, end):\n",
    "    matrix = adjmat(coord_dict, connections)\n",
    "    path = set()\n",
    "    access_points.sort()\n",
    "    for i in range(len(access_points)-1):\n",
    "        temp_path = dijkstra(matrix, access_points[i]-1, access_points[i+1]-1)\n",
    "        for i in temp_path:\n",
    "            path.add(i+1)\n",
    "    temp_path_start = dijkstra(matrix, start, access_points[0]-1) \n",
    "    temp_path_end = dijkstra(matrix, access_points[-1]-1, end) \n",
    "    for i in temp_path_start + temp_path_end:\n",
    "            path.add(i+1)\n",
    "    return path\n",
    "\n",
    "import heapq\n",
    "\n",
    "def dijkstra(matrix, start, end):\n",
    "    n = len(matrix)\n",
    "    distances = [float('inf')] * n\n",
    "    distances[start] = 0\n",
    "    visited = [False] * n\n",
    "    queue = [(0, start)]\n",
    "    path = {}\n",
    "    heapq.heapify(queue)\n",
    "\n",
    "    while queue:\n",
    "        (dist, node) = heapq.heappop(queue)\n",
    "        if node == end:\n",
    "            break\n",
    "        if not visited[node]:\n",
    "            visited[node] = True\n",
    "            for i in range(n):\n",
    "                if matrix[node][i] != 0:\n",
    "                    new_dist = dist + matrix[node][i]\n",
    "                    if new_dist < distances[i]:\n",
    "                        distances[i] = new_dist\n",
    "                        path[i] = node\n",
    "                        heapq.heappush(queue, (new_dist, i))\n",
    "\n",
    "    shortest_path = [end]\n",
    "    while end != start:\n",
    "        shortest_path.append(path[end])\n",
    "        end = path[end]\n",
    "    shortest_path.reverse()\n",
    "\n",
    "    return shortest_path\n"
   ]
  },
  {
   "cell_type": "code",
   "execution_count": 34,
   "metadata": {},
   "outputs": [],
   "source": [
    "def generate_path_bid(access_points, start, end):\n",
    "    matrix = adjmat(coord_dict, connections)\n",
    "    path = set()\n",
    "    access_points.sort()\n",
    "    for i in range(len(access_points)-1):\n",
    "        temp_path = bidirectional_dijkstra(matrix, access_points[i]-1, access_points[i+1]-1)\n",
    "        for i in temp_path:\n",
    "            path.add(i+1)\n",
    "    temp_path_start = bidirectional_dijkstra(matrix, start, access_points[0]-1) \n",
    "    temp_path_end = bidirectional_dijkstra(matrix, access_points[-1]-1, end) \n",
    "    for i in temp_path_start + temp_path_end:\n",
    "            path.add(i+1)\n",
    "    return path\n",
    "\n",
    "import heapq\n",
    "\n",
    "def bidirectional_dijkstra(matrix, start, end):\n",
    "    n = len(matrix)\n",
    "    distances_start = [float('inf')] * n\n",
    "    distances_start[start] = 0\n",
    "    distances_end = [float('inf')] * n\n",
    "    distances_end[end] = 0\n",
    "\n",
    "    visited_start = [False] * n\n",
    "    visited_end = [False] * n\n",
    "\n",
    "    queue_start = [(0, start)]\n",
    "    queue_end = [(0, end)]\n",
    "\n",
    "    while queue_start and queue_end:\n",
    "        dist_s, node_s = heapq.heappop(queue_start)\n",
    "        dist_e, node_e = heapq.heappop(queue_end)\n",
    "\n",
    "        if visited_start[node_s] and visited_end[node_e]:\n",
    "            break\n",
    "\n",
    "        if not visited_start[node_s]:\n",
    "            visited_start[node_s] = True\n",
    "            for i in range(n):\n",
    "                if matrix[node_s][i] != 0:\n",
    "                    new_dist = dist_s + matrix[node_s][i]\n",
    "                    if new_dist < distances_start[i]:\n",
    "                        distances_start[i] = new_dist\n",
    "                        heapq.heappush(queue_start, (new_dist, i))\n",
    "\n",
    "        if not visited_end[node_e]:\n",
    "            visited_end[node_e] = True\n",
    "            for i in range(n):\n",
    "                if matrix[i][node_e] != 0:\n",
    "                    new_dist = dist_e + matrix[i][node_e]\n",
    "                    if new_dist < distances_end[i]:\n",
    "                        distances_end[i] = new_dist\n",
    "                        heapq.heappush(queue_end, (new_dist, i))\n",
    "\n",
    "    intersection = set(range(n)) & set([i for i in range(n) if visited_start[i] and visited_end[i]])\n",
    "\n",
    "    shortest_path = float('inf')\n",
    "    meeting_node = None\n",
    "\n",
    "    for node in intersection:\n",
    "        path_length = distances_start[node] + distances_end[node]\n",
    "        if path_length < shortest_path:\n",
    "            shortest_path = path_length\n",
    "            meeting_node = node\n",
    "\n",
    "    if meeting_node is None:\n",
    "        return []\n",
    "\n",
    "    path_start = []\n",
    "    node = meeting_node\n",
    "    while node != start:\n",
    "        path_start.append(node)\n",
    "        node = min(range(n), key=lambda i: distances_start[i] if matrix[node][i] != 0 else float('inf'))\n",
    "\n",
    "    path_end = []\n",
    "    node = meeting_node\n",
    "    while node != end:\n",
    "        path_end.append(node)\n",
    "        node = min(range(n), key=lambda i: distances_end[i] if matrix[i][node] != 0 else float('inf'))\n",
    "\n",
    "    return path_start + [meeting_node] + path_end"
   ]
  },
  {
   "cell_type": "code",
   "execution_count": 35,
   "metadata": {},
   "outputs": [],
   "source": [
    "import time\n",
    "import sys\n",
    "\n",
    "def generate_path_performance_1(access_points,start,end):\n",
    "    start_time = time.time()\n",
    "    path = generate_path_bellman(access_points, start, end)\n",
    "    end_time = time.time()\n",
    "    \n",
    "    storage_used = sys.getsizeof(path) # in bytes\n",
    "    \n",
    "    return path, end_time - start_time, storage_used\n",
    "\n",
    "def generate_path_performance_2(access_points,start,end):\n",
    "    start_time = time.time()\n",
    "    path = generate_path_floyd(access_points, start, end)\n",
    "    end_time = time.time()\n",
    "    \n",
    "    storage_used = sys.getsizeof(path) # in bytes\n",
    "    \n",
    "    return path, end_time - start_time, storage_used\n",
    "def generate_path_performance_3(access_points,start,end):\n",
    "    start_time = time.time()\n",
    "    path = generate_path_dijkstra(access_points, start, end)\n",
    "    end_time = time.time()\n",
    "    \n",
    "    storage_used = sys.getsizeof(path) # in bytes\n",
    "    \n",
    "    return path, end_time - start_time, storage_used\n",
    "\n",
    "def generate_path_performance_4(access_points,start,end):\n",
    "    start_time = time.time()\n",
    "    path = generate_path_bid(access_points, start, end)\n",
    "    end_time = time.time()\n",
    "    \n",
    "    storage_used = sys.getsizeof(path) # in bytes\n",
    "    \n",
    "    return path, end_time - start_time, storage_used"
   ]
  },
  {
   "cell_type": "code",
   "execution_count": 41,
   "metadata": {},
   "outputs": [],
   "source": [
    "access=[]\n",
    "for freq in range(1,45):\n",
    "    access.append(random.sample(list(access_nodes.values()),freq))"
   ]
  },
  {
   "cell_type": "code",
   "execution_count": null,
   "metadata": {},
   "outputs": [],
   "source": []
  },
  {
   "cell_type": "code",
   "execution_count": 43,
   "metadata": {},
   "outputs": [
    {
     "name": "stdout",
     "output_type": "stream",
     "text": [
      "iteration=  1\n",
      "iteration=  2\n",
      "iteration=  3\n",
      "iteration=  4\n",
      "iteration=  5\n",
      "iteration=  6\n",
      "iteration=  7\n",
      "iteration=  8\n",
      "iteration=  9\n",
      "iteration=  10\n",
      "iteration=  11\n",
      "iteration=  12\n",
      "iteration=  13\n",
      "iteration=  14\n",
      "iteration=  15\n",
      "iteration=  16\n",
      "iteration=  17\n",
      "iteration=  18\n",
      "iteration=  19\n",
      "iteration=  20\n",
      "iteration=  21\n",
      "iteration=  22\n",
      "iteration=  23\n",
      "iteration=  24\n",
      "iteration=  25\n",
      "iteration=  26\n",
      "iteration=  27\n",
      "iteration=  28\n",
      "iteration=  29\n",
      "iteration=  30\n",
      "iteration=  31\n",
      "iteration=  32\n",
      "iteration=  33\n",
      "iteration=  34\n",
      "iteration=  35\n",
      "iteration=  36\n",
      "iteration=  37\n",
      "iteration=  38\n",
      "iteration=  39\n",
      "iteration=  40\n",
      "iteration=  41\n",
      "iteration=  42\n",
      "iteration=  43\n",
      "iteration=  44\n"
     ]
    }
   ],
   "source": [
    "# Example access points\n",
    "start = 0 # Example start point\n",
    "end = 84 # Example end point\n",
    "labels = [\"Dijkstra\",\"Bellman_Ford\",\"Floyd_Warshall\",\"Bidirectional_Dijkstra\"]\n",
    "Dijkstra =[]\n",
    "Bellman_Ford=[]\n",
    "Floyd_Warshall=[]\n",
    "Bidirectional_Dijkstra=[]\n",
    "for i in access:\n",
    "    print(\"iteration= \", len(i))\n",
    "    path, time_taken, storage_used = generate_path_performance_1(i, start, end)\n",
    "    Bellman_Ford.append(time_taken)\n",
    "    #print(\"bellman_ford\")\n",
    "    #print(f\"Time taken: {time_taken} seconds\")\n",
    "    #print(f\"Storage used: {storage_used} bytes\")\n",
    "    path, time_taken, storage_used = generate_path_performance_2(i, start, end)\n",
    "    Floyd_Warshall.append(time_taken)\n",
    "    #print(\"Floyd\")\n",
    "    #print(f\"Time taken: {time_taken} seconds\")\n",
    "    #print(f\"Storage used: {storage_used} bytes\")\n",
    "    path, time_taken, storage_used = generate_path_performance_3(i, start, end)\n",
    "    Dijkstra.append(time_taken)\n",
    "    #print(\"Dijkstra\")\n",
    "    #print(f\"Time taken: {time_taken} seconds\")\n",
    "    #print(f\"Storage used: {storage_used} bytes\")\n",
    "    path, time_taken, storage_used = generate_path_performance_4(i, start, end)\n",
    "    Bidirectional_Dijkstra.append(time_taken)\n",
    "    #print(\"Bidirectional\")\n",
    "    #print(f\"Time taken: {time_taken} seconds\")\n",
    "    #print(f\"Storage used: {storage_used} bytes\")"
   ]
  },
  {
   "cell_type": "code",
   "execution_count": 46,
   "metadata": {},
   "outputs": [
    {
     "data": {
      "text/plain": [
       "['Dijkstra', 'Bellman_Ford', 'Floyd_Warshall']"
      ]
     },
     "execution_count": 46,
     "metadata": {},
     "output_type": "execute_result"
    }
   ],
   "source": [
    "labels[:-1]"
   ]
  },
  {
   "cell_type": "code",
   "execution_count": 65,
   "metadata": {},
   "outputs": [
    {
     "data": {
      "image/png": "[encoded data removed]",
      "text/plain": [
       "<Figure size 2000x1200 with 1 Axes>"
      ]
     },
     "metadata": {},
     "output_type": "display_data"
    }
   ],
   "source": [
    "import matplotlib.pyplot as plt\n",
    "data = {\"Dijkstra\":Dijkstra,\"Bellman_Ford\":Bellman_Ford,\"Floyd_Warshall\" :Floyd_Warshall}\n",
    "# Plotting\n",
    "plt.figure(figsize=(20,12),dpi=100)\n",
    "for label in labels[:-1]:\n",
    "    plt.plot(data[label], label=label)\n",
    "    \n",
    "plt.xlabel(\"Number of access points\")\n",
    "plt.ylabel(\"Time in seconds\")\n",
    "# Add legend\n",
    "plt.legend()\n",
    "plt.savefig('AlgorithmPerformance.png')\n",
    "# Show the plot\n",
    "plt.show()\n",
    "\n"
   ]
  },
  {
   "cell_type": "code",
   "execution_count": 63,
   "metadata": {},
   "outputs": [],
   "source": [
    "plt.show()"
   ]
  }
 ],
 "metadata": {
  "kernelspec": {
   "display_name": "Python 3",
   "language": "python",
   "name": "python3"
  },
  "language_info": {
   "codemirror_mode": {
    "name": "ipython",
    "version": 3
   },
   "file_extension": ".py",
   "mimetype": "text/x-python",
   "name": "python",
   "nbconvert_exporter": "python",
   "pygments_lexer": "ipython3",
   "version": "3.10.4"
  },
  "orig_nbformat": 4,
  "vscode": {
   "interpreter": {
    "hash": "916dbcbb3f70747c44a77c7bcd40155683ae19c65e1c03b4aa3499c5328201f1"
   }
  }
 },
 "nbformat": 4,
 "nbformat_minor": 2
}
