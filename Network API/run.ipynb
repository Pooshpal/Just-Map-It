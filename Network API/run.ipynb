{
 "cells": [
  {
   "cell_type": "code",
   "execution_count": 1,
   "metadata": {},
   "outputs": [
    {
     "name": "stdout",
     "output_type": "stream",
     "text": [
      "Success\n",
      "Success\n"
     ]
    },
    {
     "ename": "TypeError",
     "evalue": "Object of type method is not JSON serializable",
     "output_type": "error",
     "traceback": [
      "\u001b[1;31m---------------------------------------------------------------------------\u001b[0m",
      "\u001b[1;31mTypeError\u001b[0m                                 Traceback (most recent call last)",
      "\u001b[1;32mb:\\Projects\\Just-Map-It\\Network API\\run.ipynb Cell 1\u001b[0m in \u001b[0;36m<cell line: 3>\u001b[1;34m()\u001b[0m\n\u001b[0;32m      <a href='vscode-notebook-cell:/b%3A/Projects/Just-Map-It/Network%20API/run.ipynb#W0sZmlsZQ%3D%3D?line=0'>1</a>\u001b[0m \u001b[39mfrom\u001b[39;00m \u001b[39mFlask_Client\u001b[39;00m \u001b[39mimport\u001b[39;00m Client\n\u001b[0;32m      <a href='vscode-notebook-cell:/b%3A/Projects/Just-Map-It/Network%20API/run.ipynb#W0sZmlsZQ%3D%3D?line=1'>2</a>\u001b[0m client \u001b[39m=\u001b[39m Client(host\u001b[39m=\u001b[39m\u001b[39m'\u001b[39m\u001b[39m127.0.0.1\u001b[39m\u001b[39m'\u001b[39m, port\u001b[39m=\u001b[39m\u001b[39m5000\u001b[39m,storeID\u001b[39m=\u001b[39m\u001b[39m1\u001b[39m,purpose\u001b[39m=\u001b[39m\u001b[39m'\u001b[39m\u001b[39mgetMap\u001b[39m\u001b[39m'\u001b[39m)\n\u001b[1;32m----> <a href='vscode-notebook-cell:/b%3A/Projects/Just-Map-It/Network%20API/run.ipynb#W0sZmlsZQ%3D%3D?line=2'>3</a>\u001b[0m client \u001b[39m=\u001b[39m Client(host\u001b[39m=\u001b[39;49m\u001b[39m'\u001b[39;49m\u001b[39m127.0.0.1\u001b[39;49m\u001b[39m'\u001b[39;49m, port\u001b[39m=\u001b[39;49m\u001b[39m5000\u001b[39;49m,storeID\u001b[39m=\u001b[39;49m\u001b[39m1\u001b[39;49m,purpose\u001b[39m=\u001b[39;49m\u001b[39m'\u001b[39;49m\u001b[39mgetDirections\u001b[39;49m\u001b[39m'\u001b[39;49m)\n\u001b[0;32m      <a href='vscode-notebook-cell:/b%3A/Projects/Just-Map-It/Network%20API/run.ipynb#W0sZmlsZQ%3D%3D?line=3'>4</a>\u001b[0m client \u001b[39m=\u001b[39m Client(host\u001b[39m=\u001b[39m\u001b[39m'\u001b[39m\u001b[39m127.0.0.1\u001b[39m\u001b[39m'\u001b[39m, port\u001b[39m=\u001b[39m\u001b[39m5000\u001b[39m,storeID\u001b[39m=\u001b[39m\u001b[39m1\u001b[39m,purpose\u001b[39m=\u001b[39m\u001b[39m'\u001b[39m\u001b[39mgetLocation\u001b[39m\u001b[39m'\u001b[39m)\n\u001b[0;32m      <a href='vscode-notebook-cell:/b%3A/Projects/Just-Map-It/Network%20API/run.ipynb#W0sZmlsZQ%3D%3D?line=4'>5</a>\u001b[0m client \u001b[39m=\u001b[39m Client(host\u001b[39m=\u001b[39m\u001b[39m'\u001b[39m\u001b[39m127.0.0.1\u001b[39m\u001b[39m'\u001b[39m, port\u001b[39m=\u001b[39m\u001b[39m5000\u001b[39m,storeID\u001b[39m=\u001b[39m\u001b[39m1\u001b[39m,purpose\u001b[39m=\u001b[39m\u001b[39m'\u001b[39m\u001b[39mgetMetadata\u001b[39m\u001b[39m'\u001b[39m)\n",
      "File \u001b[1;32mb:\\Projects\\Just-Map-It\\Network API\\Flask_Client.py:9\u001b[0m, in \u001b[0;36mClient.__init__\u001b[1;34m(self, host, port, storeID, purpose)\u001b[0m\n\u001b[0;32m      7\u001b[0m \u001b[39mself\u001b[39m\u001b[39m.\u001b[39mpurpose \u001b[39m=\u001b[39m purpose\n\u001b[0;32m      8\u001b[0m \u001b[39mself\u001b[39m\u001b[39m.\u001b[39mstoreID \u001b[39m=\u001b[39m storeID\n\u001b[1;32m----> 9\u001b[0m \u001b[39mself\u001b[39;49m\u001b[39m.\u001b[39;49mrun()\n",
      "File \u001b[1;32mb:\\Projects\\Just-Map-It\\Network API\\Flask_Client.py:65\u001b[0m, in \u001b[0;36mClient.run\u001b[1;34m(self)\u001b[0m\n\u001b[0;32m     63\u001b[0m \u001b[39mif\u001b[39;00m \u001b[39mself\u001b[39m\u001b[39m.\u001b[39mpurpose \u001b[39m==\u001b[39m \u001b[39m'\u001b[39m\u001b[39mgetMap\u001b[39m\u001b[39m'\u001b[39m:\u001b[39mprint\u001b[39m(\u001b[39mself\u001b[39m\u001b[39m.\u001b[39mgetMap(\u001b[39mself\u001b[39m\u001b[39m.\u001b[39mrequest_url,\u001b[39mself\u001b[39m\u001b[39m.\u001b[39mstoreID))\n\u001b[0;32m     64\u001b[0m \u001b[39mif\u001b[39;00m \u001b[39mself\u001b[39m\u001b[39m.\u001b[39mpurpose \u001b[39m==\u001b[39m \u001b[39m'\u001b[39m\u001b[39mgetMetadata\u001b[39m\u001b[39m'\u001b[39m:\u001b[39mprint\u001b[39m(\u001b[39mself\u001b[39m\u001b[39m.\u001b[39mgetMetadata(\u001b[39mself\u001b[39m\u001b[39m.\u001b[39mrequest_url,\u001b[39mself\u001b[39m\u001b[39m.\u001b[39mstoreID))\n\u001b[1;32m---> 65\u001b[0m \u001b[39mif\u001b[39;00m \u001b[39mself\u001b[39m\u001b[39m.\u001b[39mpurpose \u001b[39m==\u001b[39m \u001b[39m'\u001b[39m\u001b[39mgetDirections\u001b[39m\u001b[39m'\u001b[39m:\u001b[39mprint\u001b[39m(\u001b[39mself\u001b[39;49m\u001b[39m.\u001b[39;49mgetDirections(\u001b[39mself\u001b[39;49m\u001b[39m.\u001b[39;49mrequest_url,\u001b[39mself\u001b[39;49m\u001b[39m.\u001b[39;49mstoreID))\n\u001b[0;32m     66\u001b[0m \u001b[39mif\u001b[39;00m \u001b[39mself\u001b[39m\u001b[39m.\u001b[39mpurpose \u001b[39m==\u001b[39m \u001b[39m'\u001b[39m\u001b[39mgetLocation\u001b[39m\u001b[39m'\u001b[39m:\u001b[39mprint\u001b[39m(\u001b[39mself\u001b[39m\u001b[39m.\u001b[39mgetLocation(\u001b[39mself\u001b[39m\u001b[39m.\u001b[39mrequest_url,\u001b[39mself\u001b[39m\u001b[39m.\u001b[39mstoreID))\n\u001b[0;32m     67\u001b[0m \u001b[39melse\u001b[39;00m:\u001b[39mprint\u001b[39m(\u001b[39mself\u001b[39m\u001b[39m.\u001b[39mtest(\u001b[39mself\u001b[39m\u001b[39m.\u001b[39mrequest_url,\u001b[39mself\u001b[39m\u001b[39m.\u001b[39mstoreID))\n",
      "File \u001b[1;32mb:\\Projects\\Just-Map-It\\Network API\\Flask_Client.py:38\u001b[0m, in \u001b[0;36mClient.getDirections\u001b[1;34m(self, url, storeID)\u001b[0m\n\u001b[0;32m     36\u001b[0m \u001b[39mif\u001b[39;00m response\u001b[39m.\u001b[39mstatus_code \u001b[39m==\u001b[39m \u001b[39m200\u001b[39m:\n\u001b[0;32m     37\u001b[0m     \u001b[39mwith\u001b[39;00m \u001b[39mopen\u001b[39m(\u001b[39m'\u001b[39m\u001b[39m./temp/directions.json\u001b[39m\u001b[39m'\u001b[39m, \u001b[39m'\u001b[39m\u001b[39mw\u001b[39m\u001b[39m'\u001b[39m) \u001b[39mas\u001b[39;00m f:\n\u001b[1;32m---> 38\u001b[0m         json\u001b[39m.\u001b[39;49mdump(response\u001b[39m.\u001b[39;49mjson, f)\n\u001b[0;32m     39\u001b[0m     \u001b[39mreturn\u001b[39;00m \u001b[39m\"\u001b[39m\u001b[39mSuccess\u001b[39m\u001b[39m\"\u001b[39m\n\u001b[0;32m     40\u001b[0m \u001b[39melse\u001b[39;00m:\n",
      "File \u001b[1;32mc:\\Users\\poosh\\AppData\\Local\\Programs\\Python\\Python310\\lib\\json\\__init__.py:179\u001b[0m, in \u001b[0;36mdump\u001b[1;34m(obj, fp, skipkeys, ensure_ascii, check_circular, allow_nan, cls, indent, separators, default, sort_keys, **kw)\u001b[0m\n\u001b[0;32m    173\u001b[0m     iterable \u001b[39m=\u001b[39m \u001b[39mcls\u001b[39m(skipkeys\u001b[39m=\u001b[39mskipkeys, ensure_ascii\u001b[39m=\u001b[39mensure_ascii,\n\u001b[0;32m    174\u001b[0m         check_circular\u001b[39m=\u001b[39mcheck_circular, allow_nan\u001b[39m=\u001b[39mallow_nan, indent\u001b[39m=\u001b[39mindent,\n\u001b[0;32m    175\u001b[0m         separators\u001b[39m=\u001b[39mseparators,\n\u001b[0;32m    176\u001b[0m         default\u001b[39m=\u001b[39mdefault, sort_keys\u001b[39m=\u001b[39msort_keys, \u001b[39m*\u001b[39m\u001b[39m*\u001b[39mkw)\u001b[39m.\u001b[39miterencode(obj)\n\u001b[0;32m    177\u001b[0m \u001b[39m# could accelerate with writelines in some versions of Python, at\u001b[39;00m\n\u001b[0;32m    178\u001b[0m \u001b[39m# a debuggability cost\u001b[39;00m\n\u001b[1;32m--> 179\u001b[0m \u001b[39mfor\u001b[39;00m chunk \u001b[39min\u001b[39;00m iterable:\n\u001b[0;32m    180\u001b[0m     fp\u001b[39m.\u001b[39mwrite(chunk)\n",
      "File \u001b[1;32mc:\\Users\\poosh\\AppData\\Local\\Programs\\Python\\Python310\\lib\\json\\encoder.py:438\u001b[0m, in \u001b[0;36m_make_iterencode.<locals>._iterencode\u001b[1;34m(o, _current_indent_level)\u001b[0m\n\u001b[0;32m    436\u001b[0m         \u001b[39mraise\u001b[39;00m \u001b[39mValueError\u001b[39;00m(\u001b[39m\"\u001b[39m\u001b[39mCircular reference detected\u001b[39m\u001b[39m\"\u001b[39m)\n\u001b[0;32m    437\u001b[0m     markers[markerid] \u001b[39m=\u001b[39m o\n\u001b[1;32m--> 438\u001b[0m o \u001b[39m=\u001b[39m _default(o)\n\u001b[0;32m    439\u001b[0m \u001b[39myield from\u001b[39;00m _iterencode(o, _current_indent_level)\n\u001b[0;32m    440\u001b[0m \u001b[39mif\u001b[39;00m markers \u001b[39mis\u001b[39;00m \u001b[39mnot\u001b[39;00m \u001b[39mNone\u001b[39;00m:\n",
      "File \u001b[1;32mc:\\Users\\poosh\\AppData\\Local\\Programs\\Python\\Python310\\lib\\json\\encoder.py:179\u001b[0m, in \u001b[0;36mJSONEncoder.default\u001b[1;34m(self, o)\u001b[0m\n\u001b[0;32m    160\u001b[0m \u001b[39mdef\u001b[39;00m \u001b[39mdefault\u001b[39m(\u001b[39mself\u001b[39m, o):\n\u001b[0;32m    161\u001b[0m     \u001b[39m\"\"\"Implement this method in a subclass such that it returns\u001b[39;00m\n\u001b[0;32m    162\u001b[0m \u001b[39m    a serializable object for ``o``, or calls the base implementation\u001b[39;00m\n\u001b[0;32m    163\u001b[0m \u001b[39m    (to raise a ``TypeError``).\u001b[39;00m\n\u001b[1;32m   (...)\u001b[0m\n\u001b[0;32m    177\u001b[0m \n\u001b[0;32m    178\u001b[0m \u001b[39m    \"\"\"\u001b[39;00m\n\u001b[1;32m--> 179\u001b[0m     \u001b[39mraise\u001b[39;00m \u001b[39mTypeError\u001b[39;00m(\u001b[39mf\u001b[39m\u001b[39m'\u001b[39m\u001b[39mObject of type \u001b[39m\u001b[39m{\u001b[39;00mo\u001b[39m.\u001b[39m\u001b[39m__class__\u001b[39m\u001b[39m.\u001b[39m\u001b[39m__name__\u001b[39m\u001b[39m}\u001b[39;00m\u001b[39m \u001b[39m\u001b[39m'\u001b[39m\n\u001b[0;32m    180\u001b[0m                     \u001b[39mf\u001b[39m\u001b[39m'\u001b[39m\u001b[39mis not JSON serializable\u001b[39m\u001b[39m'\u001b[39m)\n",
      "\u001b[1;31mTypeError\u001b[0m: Object of type method is not JSON serializable"
     ]
    }
   ],
   "source": [
    "from Flask_Client import Client\n",
    "client = Client(host='127.0.0.1', port=5000,storeID=1,purpose='getMap')\n",
    "client = Client(host='127.0.0.1', port=5000,storeID=1,purpose='getDirections')\n",
    "client = Client(host='127.0.0.1', port=5000,storeID=1,purpose='getLocation')\n",
    "client = Client(host='127.0.0.1', port=5000,storeID=1,purpose='getMetadata')\n",
    "client = Client(host='127.0.0.1', port=5000,storeID=1,purpose='Test')"
   ]
  }
 ],
 "metadata": {
  "kernelspec": {
   "display_name": "Python 3",
   "language": "python",
   "name": "python3"
  },
  "language_info": {
   "codemirror_mode": {
    "name": "ipython",
    "version": 3
   },
   "file_extension": ".py",
   "mimetype": "text/x-python",
   "name": "python",
   "nbconvert_exporter": "python",
   "pygments_lexer": "ipython3",
   "version": "3.10.4"
  },
  "orig_nbformat": 4
 },
 "nbformat": 4,
 "nbformat_minor": 2
}
