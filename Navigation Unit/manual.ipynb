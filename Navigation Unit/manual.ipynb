{
 "cells": [
  {
   "cell_type": "markdown",
   "metadata": {},
   "source": [
    "-       Fresh Produce Section: \n",
    ">   This is where you'll find fresh fruits, vegetables, herbs, and sometimes flowers.\n",
    "\n",
    "-       Meat Section: \n",
    ">   This section is where you'll find fresh meats such as beef, pork, chicken, lamb, and sometimes seafood.\n",
    "\n",
    "-       Dairy Section: \n",
    ">   This section typically includes milk, cheese, yogurt, and other dairy products.\n",
    "\n",
    "-       Bakery Section: \n",
    ">   This is where you'll find fresh bread, pastries, cakes, and other baked goods.\n",
    "\n",
    "-       Frozen Foods Section: \n",
    ">   This section contains frozen fruits and vegetables, ice cream, frozen dinners, and other frozen foods.\n",
    "\n",
    "-       Beauty & Health Section: \n",
    ">   This section includes toiletries, cosmetics, hair care products, and other health and beauty items.\n",
    "\n",
    "-       Candy Section: \n",
    ">   This section is where you'll find candy, and other treats.\n",
    "\n",
    "-       Stationary Section: \n",
    ">   This is where you'll find pens, folders, books and bags.\n",
    "\n",
    "-       Grocery Section: \n",
    ">   This section includes staples like wheat, rice, etc.\n",
    "\n",
    "-       Beverages Section: \n",
    ">   This section includes water, soda, juice, beer, wine, and other drinks.\n",
    "\n",
    "-       Snacks & Packaged products Section: \n",
    ">   This section includes chips, junk, packaged products.\n",
    "\n",
    "-       Household and Cleaning Section: \n",
    ">   This section typically includes cleaning products, paper towels, toilet paper, and other household items.\n",
    "\n",
    "-       Pet Section: \n",
    ">   This section includes pet food, toys, and accessories for dogs, cats, and other animals.\n"
   ]
  },
  {
   "cell_type": "code",
   "execution_count": 24,
   "metadata": {},
   "outputs": [],
   "source": [
    "coord_dict = {\"1\": [34, 46], \"2\": [219, 46], \"3\": [410, 46], \"4\": [578, 46], \"5\": [726, 46], \"6\": [801, 46], \"7\": [878, 46], \"8\": [955, 46], \"9\": [34, 125], \"10\": [66, 125], \"11\": [243, 125], \"12\": [410, 125], \"13\": [576, 125], \"14\": [726, 125], \"15\": [801, 125], \"16\": [955, 125], \"17\": [64, 166], \"18\": [65, 204], \"19\": [242, 204], \"20\": [410, 204], \"21\": [576, 204], \"22\": [726, 204], \"23\": [801, 204], \"24\": [879, 204], \"25\": [955, 204], \"26\": [726, 246], \"27\": [41, 321], \"28\": [65, 321], \"29\": [224, 321], \"30\": [410, 321], \"31\": [488, 321], \"32\": [565, 321], \"33\": [576, 321], \"34\": [670, 321], \"35\": [726, 321], \"36\": [801, 321], \"37\": [878, 321], \"38\": [955, 321], \"39\": [41, 435], \"40\": [224, 435], \"41\": [410, 435], \"42\": [670, 439], \"43\": [802, 439], \"44\": [828, 439], \"45\": [879, 439], \"46\": [955, 439], \"47\": [410, 472], \"48\": [487, 472], \"49\": [565, 472], \"50\": [670, 472], \"51\": [41, 489], \"52\": [41, 510], \"53\": [223, 510], \"54\": [410, 510], \"55\": [670, 510], \"56\": [828, 510], \"57\": [955, 510], \"58\": [955, 545], \"59\": [41, 584], \"60\": [223, 584], \"61\": [410, 584], \"62\": [488, 584], \"63\": [509, 584], \"64\": [565, 584], \"65\": [670, 584], \"66\": [829, 584], \"67\": [955, 584], \"68\": [22, 664], \"69\": [133, 664], \"70\": [243, 664], \"71\": [385, 664], \"72\": [448, 664], \"73\": [514, 664], \"74\": [670, 664], \"75\": [828, 664], \"76\": [868, 664], \"77\": [959, 664], \"78\": [22, 744], \"79\": [133, 744], \"80\": [144, 744], \"81\": [243, 744], \"82\": [242, 804], \"83\": [385, 804], \"84\": [514, 804], \"85\": [670, 804], \"86\": [829, 804], \"87\": [960, 804], \"88\": [144, 835], \"89\": [243, 851], \"90\": [144, 880], \"91\": [144, 955], \"92\": [243, 955], \"93\": [384, 955], \"94\": [415, 955], \"95\": [514, 955], \"96\": [654, 955], \"97\": [670, 955], \"98\": [827, 955], \"99\": [895, 955], \"100\": [959, 955]}"
   ]
  },
  {
   "cell_type": "code",
   "execution_count": 25,
   "metadata": {},
   "outputs": [],
   "source": [
    "connections = [[1,2],[1,9],[2,3],[3,4],[3,12],[4,5],[5,6],[5,14],[6,7],[6,15],[7,8],[8,16],[9,10],[10,17],[10,11],[11,12],[12,13],[12,20],[13,14],[14,22],[15,23],[16,25],[17,18],[18,19],[18,28],[19,20],[20,21],[20,30],[21,22],[22,26],[23,36],[23,24],[24,25],[24,37],[25,38],[26,35],[27,28],[27,39],[28,29],[29,30],[30,31],[30,41],[31,32],[31,48],[32,33],[32,49],[33,34],[34,35],[34,42],[36,43],[37,45],[38,46],[39,40],[39,51],[40,41],[41,47],[42,50],[42,43],[43,44],[44,45],[45,46],[46,57],[47,54],[48,62],[49,64],[50,55],[51,52],[52,53],[52,59],[53,54],[54,61],[55,65],[55,56],[56,57],[57,58],[58,67],[59,60],[60,61],[61,62],[62,63],[63,64],[64,65],[65,66],[65,74],[66,67],[68,69],[68,78],[69,70],[70,71],[70,81],[71,72],[71,83],[72,73],[73,74],[73,84],[74,75],[74,85],[75,76],[75,86],[76,77],[77,87],[78,79],[79,80],[80,81],[80,88],[81,82],[82,89],[83,93],[84,95],[85,97],[86,98],[87,100],[88,90],[89,92],[90,91],[91,92],[92,93],[93,94],[94,95],[95,96],[96,97],[97,98],[98,99],[99,100]]"
   ]
  },
  {
   "cell_type": "code",
   "execution_count": 26,
   "metadata": {},
   "outputs": [],
   "source": [
    "main_paths = [[9,10],[10,17],[17,18],[18,28],[28,29],[29,30],[31,32],[32,33],[33,34],[34,42],[42,50],[50,55],[55,65],[65,74],[74,73],[73,72],[72,71],[71,81],[81,80],[80,88],[88,90]]"
   ]
  },
  {
   "cell_type": "code",
   "execution_count": 27,
   "metadata": {},
   "outputs": [],
   "source": [
    "all_sections = [\"Fresh Produce Section\",\"Meat Section\",\"Dairy Section\",\"Bakery Section\",\"Frozen Foods Section\",\"Beauty & Health Section\",\"Candy Section\",\"Stationary Section\",\"Grocery Section\",\"Beverages Section\",\"Snacks & Packaged products Section\",\"Household and Cleaning Section\",\"Pet Section\"]"
   ]
  },
  {
   "cell_type": "code",
   "execution_count": 28,
   "metadata": {},
   "outputs": [],
   "source": [
    "floor_section_map = [\"Fresh Produce - 1\",\"Fresh Produce - 2\",\"Fresh Produce - 3\",\"Fresh Produce - 4\",\"Fresh Produce - 5\",\"Meat - 1\",\"Meat - 2\",\"Meat - 3\",\"Dairy - 1\",\"Dairy - 2\",\"Bakery - 1\",\"Bakery - 2\",\"Frozen Foods - 1\",\"Beauty & Health - 1\",\"Beauty & Health - 2\",\"Beauty & Health - 3\",\"Beauty & Health - 4\",\"Beauty & Health - 5\",\"Candy - 1\",\"Stationary - 1\",\"Stationary - 2\",\"Stationary - 3\",\"Stationary - 4\",\"Stationary - 5\",\"Grocery - 1\",\"Grocery - 2\",\"Grocery - 3\",\"Grocery - 4\",\"Grocery - 5\",\"Grocery - 6\",\"Grocery - 7\",\"Beverages - 1\",\"Snacks & Packaged products - 1\",\"Snacks & Packaged products - 2\",\"Snacks & Packaged products - 3\",\"Snacks & Packaged products - 4\",\"Snacks & Packaged products - 5\",\"Snacks & Packaged products - 5\",\"Household and Cleaning - 1\",\"Household and Cleaning - 2\",\"Pet - 1\",\"Pet - 2\",\"Pet - 3\"]"
   ]
  },
  {
   "cell_type": "code",
   "execution_count": 29,
   "metadata": {},
   "outputs": [],
   "source": [
    "item_map = {\n",
    "    \"Fresh Produce Section\":    [\"Apples\", \"Apricots\", \"Avocado\", \"Bananas\", \"Beetroot\", \"Broccoli\", \"Brussels sprouts\", \"Cabbage\", \"Capsicum\", \"Carrots\", \"Cauliflower\", \"Celery\", \"Cherries\", \"Coconut\", \"Corn\", \"Cucumber\", \"Dates\", \"Dragon fruit\", \"Eggplant\", \"Figs\", \"Garlic\", \"Ginger\", \"Grapes\", \"Green beans\", \"Green onion\", \"Kiwi\", \"Lemon\", \"Lettuce\", \"Limes\", \"Mandarins\", \"Mangoes\", \"Melons\", \"Mushrooms\", \"Onions\", \"Oranges\", \"Papaya\", \"Peaches\", \"Pears\", \"Peas\", \"Pineapple\", \"Plums\", \"Potatoes\", \"Pumpkins\", \"Radishes\"],\n",
    "    \"Meat Section\":             [\"Beef\", \"Chicken\", \"Lamb\", \"Pork\", \"Bacon\", \"Ham\", \"Sausages\", \"Salami\", \"Pepperoni\", \"Ground beef\", \"Steak\", \"Turkey\", \"Duck\", \"Venison\", \"Rabbit\", \"Quail\", \"Fish\", \"Shrimp\", \"Crab\", \"Lobster\", \"Mussels\", \"Clams\", \"Oysters\", \"Scallops\", \"Squid\", \"Octopus\", \"Snails\", \"Goat meat\", \"Buffalo meat\", \"Kangaroo meat\", \"Crocodile meat\", \"Alligator meat\", \"Deer meat\", \"Elk meat\", \"Moose meat\", \"Bear meat\", \"Wild boar meat\"],\n",
    "    \"Dairy Section\":            [\"Milk\", \"Butter\", \"Cheese\", \"Yogurt\", \"Sour cream\", \"Cream cheese\", \"Whipping cream\", \"Ice cream\", \"Eggs\", \"Cottage cheese\", \"Ricotta cheese\", \"Mozzarella cheese\", \"Cheddar cheese\", \"Feta cheese\", \"Blue cheese\", \"Brie cheese\", \"Camembert cheese\", \"Gouda cheese\", \"Parmesan cheese\", \"Goat cheese\", \"Sheep cheese\", \"Chocolate milk\", \"Almond milk\", \"Soy milk\", \"Coconut milk\", \"Cashew milk\", \"Hemp milk\", \"Oat milk\", \"Rice milk\", \"Whipped cream\", \"Non-dairy creamer\", \"Buttermilk\", \"Condensed milk\", \"Evaporated milk\", \"Half-and-half\", \"Powdered milk\", \"Flavored milk\"],\n",
    "    \"Bakery Section\":           [\"Bagels\", \"Bread\", \"Buns\", \"Croissants\", \"Danish pastries\", \"Donuts\", \"Muffins\", \"Pastries\", \"Pita bread\", \"Rolls\", \"Sourdough bread\", \"Tortillas\", \"Cookies\", \"Cakes\", \"Cupcakes\", \"Pies\", \"Brownies\", \"Cheesecake\", \"Biscuits\", \"Scones\", \"Cinnamon rolls\", \"Baguettes\", \"Focaccia\", \"Garlic bread\", \"Ciabatta\", \"Pumpernickel bread\", \"Rye bread\", \"Pretzels\", \"Milk bread\", \"Multigrain bread\", \"Whole wheat bread\", \"White bread\", \"Fruit bread\", \"Banana bread\", \"Zucchini bread\", \"Carrot cake\", \"Chocolate cake\", \"Angel food cake\", \"Red velvet cake\"],\n",
    "    \"Frozen Foods Section\":     [\"Frozen vegetables\", \"Frozen fruits\", \"Frozen pizzas\", \"Frozen dinners\", \"Frozen waffles\", \"Frozen fries\", \"Frozen burgers\", \"Frozen chicken nuggets\", \"Frozen fish\", \"Frozen shrimp\", \"Frozen meatballs\", \"Frozen lasagna\", \"Frozen taquitos\", \"Frozen potstickers\", \"Frozen vegetables\", \"Frozen fruit bars\", \"Frozen yogurt\", \"Ice cream\", \"Ice cream sandwiches\", \"Ice cream cones\", \"Ice cream bars\", \"Frozen appetizers\", \"Frozen dumplings\", \"Frozen spring rolls\", \"Frozen berries\", \"Frozen peas\", \"Frozen corn\", \"Frozen carrots\", \"Frozen edamame\", \"Frozen lima beans\", \"Frozen green beans\", \"Frozen okra\", \"Frozen cauliflower\", \"Frozen broccoli\", \"Frozen spinach\", \"Frozen brussels sprouts\", \"Frozen stir-fry vegetables\"],\n",
    "    \"Beauty & Health Section\":  [\"Toothpaste\", \"Mouthwash\", \"Floss\", \"Toothbrushes\", \"Deodorant\", \"Soap\", \"Shampoo\", \"Conditioner\", \"Body wash\", \"Lotion\", \"Sunscreen\", \"Hand sanitizer\", \"Facial cleansers\", \"Facial moisturizers\", \"Body moisturizers\", \"Face masks\", \"Eye cream\", \"Hair styling products\", \"Hair dye\", \"Razors\", \"Shaving cream\", \"Tampons\", \"Pads\", \"Condoms\", \"Lubricant\", \"Multivitamins\", \"Probiotics\", \"Cold and flu medicine\", \"Pain relievers\", \"Allergy medicine\", \"Digestive health supplements\", \"Herbal supplements\", \"Weight loss supplements\", \"Protein powder\", \"Energy bars\", \"Energy drinks\", \"Sports drinks\", \"Meal replacement shakes\", \"Joint supplements\"],\n",
    "    \"Candy Section\":            [\"Chocolate bars\", \"Gummy bears\", \"Sour gummies\", \"Licorice\", \"Candy canes\", \"Jelly beans\", \"M&Ms\", \"Skittles\", \"Starburst\", \"Twizzlers\", \"Reese's Pieces\", \"Nerds\", \"Mike and Ike\", \"Snickers\", \"Kit Kats\", \"Milky Way\", \"Hershey's Kisses\", \"Tootsie Rolls\", \"Jawbreakers\", \"Lollipops\", \"Rock candy\", \"Cotton candy\", \"Taffy\", \"Fudge\", \"Truffles\", \"Peanut brittle\", \"Mints\", \"Caramel\", \"Marshmallows\", \"Popcorn\", \"Pretzels\", \"Trail mix\", \"Granola bars\", \"Nuts\", \"Dried fruit\", \"Beef jerky\", \"Protein bars\", \"Gum\", \"Breath mints\"],\n",
    "    \"Stationary Section\":       [\"Pens\", \"Pencils\", \"Markers\", \"Highlighters\", \"Crayons\", \"Colored pencils\", \"Erasers\", \"Sharpies\", \"Permanent markers\", \"Whiteboard markers\", \"Mechanical pencils\", \"Notebooks\", \"Loose leaf paper\", \"Sticky notes\", \"Envelopes\", \"Folders\", \"Binders\", \"Index cards\", \"Paper clips\", \"Staplers\", \"Tape\", \"Glue sticks\", \"Scissors\", \"Rulers\", \"Calculators\", \"Backpacks\", \"Lunch boxes\", \"Water bottles\", \"Planners\", \"Calendars\", \"Desk organizers\", \"File cabinets\", \"Bulletin boards\", \"Chalk\", \"Chalkboard erasers\", \"Paint\", \"Paint brushes\", \"Canvas\", \"Sketch pads\"],\n",
    "    \"Grocery Section\":          [\"Cereal\", \"Oatmeal\", \"Pasta\", \"Rice\",\"Bread crumbs\", \"Flour\", \"Sugar\", \"Salt\", \"Pepper\", \"Spices\", \"Oils\",\"Vinegar\", \"Honey\", \"Syrup\",\"Noodles\", \"Mustard Sauce\", \"Chilli sauce\", \"Chocolate chips\",\"Garlic Sauce\", \"Baking Soda\",\"Baking Powder\",\"Yeast\", \"Cocoa Powder\", \"Jam\",\"Mayonnaise\", \"Ketchup\", \"Mustard\", \"Hot sauce\", \"BBQ sauce\", \"Worcestershire sauce\", \"Soy sauce\", \"Teriyaki sauce\", \"Salad dressing\", \"Pickles\", \"Olives\", \"Crackers\",\"Chips\", \"Pretzels\", \"Popcorn\", \"Cookies\"],\n",
    "    \"Beverages Section\":        [\"Water\", \"Soda\", \"Juice\", \"Tea\", \"Coffee\", \"Energy drinks\", \"Sports drinks\", \"Flavored water\", \"Sparkling water\", \"Coconut water\", \"Almond milk\", \"Soy milk\", \"Oat milk\", \"Rice milk\", \"Cow's milk\", \"Chocolate milk\", \"Orange juice\", \"Apple juice\", \"Cranberry juice\", \"Grape juice\", \"Pineapple juice\", \"Lemonade\", \"Iced tea\", \"Hot cocoa\", \"Hot cider\", \"Beer\", \"Wine\", \"Liquor\", \"Seltzer\", \"Kombucha\", \"Smoothies\", \"Protein shakes\", \"Meal replacement shakes\", \"Coffee creamer\", \"Lemon-lime soda\", \"Root beer\", \"Ginger ale\", \"Orange soda\", \"Grape soda\", \"Cream soda\"],\n",
    "    \"Snacks & Packaged products Section\": [\"Chips\", \"Popcorn\", \"Crackers\", \"Pretzels\", \"Granola bars\", \"Protein bars\", \"Energy bars\", \"Cereal bars\", \"Trail mix\", \"Nuts\", \"Dried fruit\", \"Candy\", \"Chocolate\", \"Cookies\", \"Pastries\", \"Muffins\", \"Donuts\", \"Cupcakes\", \"Brownies\", \"Cakes\", \"Pie\", \"Ice cream\", \"Frozen yogurt\", \"Popsicles\", \"Cereal\", \"Oatmeal\", \"Pasta\", \"Rice\", \"Canned fruit\", \"Canned vegetables\", \"Canned soup\", \"Canned tuna\", \"Canned chicken\", \"Canned beans\", \"Peanut butter\", \"Jelly\", \"Nutella\", \"Snack cakes\", \"Jerky\"],\n",
    "    \"Household and Cleaning Section\": [\"Toilet paper\", \"Paper towels\", \"Tissues\", \"Trash bags\", \"Cleaning spray\", \"Disinfectant wipes\", \"Laundry detergent\", \"Fabric softener\", \"Dryer sheets\", \"Bleach\", \"All-purpose cleaner\", \"Glass cleaner\", \"Floor cleaner\", \"Dish soap\", \"Dishwasher detergent\", \"Sponges\", \"Scrub brushes\", \"Mops\", \"Brooms\", \"Dustpans\", \"Trash cans\", \"Batteries\", \"Light bulbs\", \"Extension cords\", \"Surge protectors\", \"Ziploc bags\", \"Aluminum foil\", \"Plastic wrap\", \"Food storage containers\", \"Air fresheners\", \"Candles\", \"Matches\", \"Lighter fluid\", \"Insect repellent\", \"Insecticide\", \"Mouse traps\", \"Fly paper\"],\n",
    "    \"Pet Section\":              [\"Dog food\", \"Cat food\", \"Bird food\", \"Fish food\", \"Treats\", \"Chew toys\", \"Bones\", \"Rawhide\", \"Collars\", \"Leashes\", \"Harnesses\", \"Food bowls\", \"Water bowls\", \"Cat litter\", \"Litter boxes\", \"Litter scoops\", \"Pooper scoopers\", \"Poop bags\", \"Stain remover\", \"Odor remover\", \"Flea and tick prevention\", \"Heartworm prevention\", \"Dental chews\", \"Grooming brushes\", \"Shampoos\", \"Conditioners\", \"De-shedding tools\", \"Nail clippers\", \"Ear cleaner\", \"Eye cleaner\", \"Toys\", \"Catnip\", \"Scratching posts\", \"Fish tanks\", \"Aquarium gravel\", \"Fish ornaments\", \"Air pumps\", \"Filters\", \"Heaters\", \"Lighting\", \"Reptile food\", \"Reptile habitats\"],\n",
    "}\n"
   ]
  },
  {
   "cell_type": "code",
   "execution_count": 30,
   "metadata": {},
   "outputs": [
    {
     "name": "stdout",
     "output_type": "stream",
     "text": [
      "Fresh Produce Section :  44\n",
      "Meat Section :  37\n",
      "Dairy Section :  37\n",
      "Bakery Section :  39\n",
      "Frozen Foods Section :  37\n",
      "Beauty & Health Section :  39\n",
      "Candy Section :  39\n",
      "Stationary Section :  39\n",
      "Grocery Section :  40\n",
      "Beverages Section :  40\n",
      "Snacks & Packaged products Section :  39\n",
      "Household and Cleaning Section :  37\n",
      "Pet Section :  42\n"
     ]
    }
   ],
   "source": [
    "for i in all_sections:\n",
    "    print(i,\": \",len(item_map[i]))"
   ]
  },
  {
   "cell_type": "code",
   "execution_count": 31,
   "metadata": {},
   "outputs": [],
   "source": [
    "access_nodes = {\"Fresh Produce - 1\":84,\"Fresh Produce - 2\":83,\"Fresh Produce - 3\":82,\"Fresh Produce - 4\":94,\"Fresh Produce - 5\":96,\"Meat - 1\":86,\"Meat - 2\":87,\"Meat - 3\":99,\"Dairy - 1\":72,\"Dairy - 2\":76,\"Bakery - 1\":69,\"Bakery - 2\":79,\"Frozen Foods - 1\":85,\"Beauty & Health - 1\":29,\"Beauty & Health - 2\":40,\"Beauty & Health - 3\":53,\"Beauty & Health - 4\":60,\"Beauty & Health - 5\":51,\"Candy - 1\":89,\"Candy - 2\":88,\"Stationary - 1\":47,\"Stationary - 2\":48,\"Stationary - 3\":49,\"Stationary - 4\":50,\"Stationary - 5\":63,\"Grocery - 1\":7,\"Grocery - 2\":15,\"Grocery - 3\":16,\"Grocery - 4\":36,\"Grocery - 5\":37,\"Grocery - 6\":38,\"Grocery - 7\":44,\"Beverages - 1\":26,\"Snacks & Packaged products - 1\":11,\"Snacks & Packaged products - 2\":19,\"Snacks & Packaged products - 3\":29,\"Snacks & Packaged products - 4\":13,\"Snacks & Packaged products - 5\":21,\"Snacks & Packaged products - 6\":33,\"Household and Cleaning - 1\":2,\"Household and Cleaning - 2\":4,\"Pet - 1\":56,\"Pet - 2\":66,\"Pet - 3\":58}"
   ]
  },
  {
   "cell_type": "code",
   "execution_count": 32,
   "metadata": {},
   "outputs": [],
   "source": [
    "section_list = {\n",
    "\"Fresh Produce - 1\" : [\"Apples\", \"Apricots\", \"Avocado\", \"Bananas\", \"Beetroot\", \"Broccoli\", \"Brussels sprouts\", \"Cabbage\", \"Capsicum\",\"Carrots\", \"Cauliflower\",\"Celery\",\"Cherries\"],\n",
    "\"Fresh Produce - 2\" : [\"Coconut\", \"Corn\", \"Cucumber\", \"Dates\", \"Dragon fruit\",\"Eggplant\", \"Figs\", \"Garlic\", \"Ginger\", \"Grapes\", \"Green beans\", \"Green onion\", \"Kiwi\"],\n",
    "\"Fresh Produce - 3\" :[\"Lemon\",\"Lettuce\", \"Limes\",\"Mandarins\", \"Mangoes\", \"Melons\"],\n",
    "\"Fresh Produce - 4\" :  [\"Mushrooms\", \"Onions\",\"Oranges\", \"Papaya\",\"Peaches\", \"Pears\"],\n",
    "\"Fresh Produce - 5\" : [\"Peas\",\"Pineapple\", \"Plums\", \"Potatoes\", \"Pumpkins\", \"Radishes\"],\n",
    "\"Meat - 1\" : [\"Beef\", \"Chicken\", \"Lamb\", \"Pork\", \"Bacon\", \"Ham\", \"Sausages\", \"Salami\", \"Pepperoni\", \"Ground beef\", \"Steak\", \"Turkey\", \"Duck\", \"Venison\", \"Rabbit\"],\n",
    "\"Meat - 2\" : [\"Quail\", \"Fish\", \"Shrimp\", \"Crab\", \"Lobster\", \"Mussels\", \"Clams\", \"Oysters\", \"Scallops\", \"Squid\", \"Octopus\", \"Snails\", \"Goat meat\", \"Buffalo meat\", \"Kangaroo meat\"],\n",
    "\"Meat - 3\" : [\"Crocodile meat\", \"Alligator meat\", \"Deer meat\", \"Elk meat\", \"Moose meat\", \"Bear meat\", \"Wild boar meat\"],\n",
    "\"Dairy - 1\" : [\"Milk\", \"Butter\", \"Cheese\", \"Yogurt\", \"Sour cream\", \"Cream cheese\", \"Whipping cream\", \"Ice cream\", \"Eggs\", \"Cottage cheese\", \"Ricotta cheese\", \"Mozzarella cheese\", \"Cheddar cheese\", \"Feta cheese\", \"Blue cheese\", \"Brie cheese\", \"Camembert cheese\", \"Gouda cheese\", \"Parmesan cheese\"],\n",
    "\"Dairy - 2\" : [\"Goat cheese\", \"Sheep cheese\", \"Chocolate milk\", \"Almond milk\", \"Soy milk\", \"Coconut milk\", \"Cashew milk\", \"Hemp milk\", \"Oat milk\", \"Rice milk\", \"Whipped cream\", \"Non-dairy creamer\", \"Buttermilk\", \"Condensed milk\", \"Evaporated milk\", \"Half-and-half\", \"Powdered milk\", \"Flavored milk\"],\n",
    "\"Bakery - 1\" : [\"Bagels\", \"Bread\", \"Buns\", \"Croissants\", \"Danish pastries\", \"Donuts\", \"Muffins\", \"Pastries\", \"Pita bread\", \"Rolls\", \"Sourdough bread\", \"Tortillas\", \"Cookies\", \"Cakes\", \"Cupcakes\", \"Pies\", \"Brownies\", \"Cheesecake\", \"Biscuits\", \"Scones\", \"Cinnamon rolls\", \"Baguettes\", \"Focaccia\", \"Garlic bread\", \"Ciabatta\"],\n",
    "\"Bakery - 2\" : [\"Pumpernickel bread\", \"Rye bread\", \"Pretzels\", \"Milk bread\", \"Multigrain bread\", \"Whole wheat bread\", \"White bread\", \"Fruit bread\", \"Banana bread\", \"Zucchini bread\", \"Carrot cake\", \"Chocolate cake\", \"Angel food cake\", \"Red velvet cake\"],\n",
    "\"Frozen Foods - 1\": [\"Frozen vegetables\", \"Frozen fruits\", \"Frozen pizzas\", \"Frozen dinners\", \"Frozen waffles\", \"Frozen fries\", \"Frozen burgers\", \"Frozen chicken nuggets\", \"Frozen fish\", \"Frozen shrimp\", \"Frozen meatballs\", \"Frozen lasagna\", \"Frozen taquitos\", \"Frozen potstickers\", \"Frozen vegetables\", \"Frozen fruit bars\", \"Frozen yogurt\", \"Ice cream\", \"Ice cream sandwiches\", \"Ice cream cones\", \"Ice cream bars\", \"Frozen appetizers\", \"Frozen dumplings\", \"Frozen spring rolls\", \"Frozen berries\", \"Frozen peas\", \"Frozen corn\", \"Frozen carrots\", \"Frozen edamame\", \"Frozen lima beans\", \"Frozen green beans\", \"Frozen okra\", \"Frozen cauliflower\", \"Frozen broccoli\", \"Frozen spinach\", \"Frozen brussels sprouts\", \"Frozen stir-fry vegetables\"],\n",
    "\"Beauty & Health - 1\" :  [\"Toothpaste\", \"Mouthwash\", \"Floss\", \"Toothbrushes\", \"Deodorant\", \"Soap\", ],\n",
    "\"Beauty & Health - 2\" : [\"Shampoo\", \"Conditioner\", \"Body wash\", \"Lotion\", \"Sunscreen\", \"Hand sanitizer\", \"Facial cleansers\", \"Facial moisturizers\", \"Body moisturizers\"], \n",
    "\"Beauty & Health - 3\" : [\"Face masks\", \"Eye cream\", \"Hair styling products\", \"Hair dye\", \"Razors\", \"Shaving cream\", \"Tampons\", \"Pads\", \"Condoms\"],\n",
    "\"Beauty & Health - 4\" : [\"Lubricant\",  \"Multivitamins\", \"Probiotics\", \"Cold and flu medicine\", \"Pain relievers\", \"Allergy medicine\", \"Digestive health supplements\", \"Herbal supplements\", \"Weight loss supplements\" ],\n",
    "\"Beauty & Health - 5\" : [\"Protein powder\", \"Energy bars\", \"Energy drinks\", \"Sports drinks\", \"Meal replacement shakes\", \"Joint supplements\"],\n",
    "\"Candy - 1\" : [\"Chocolate bars\", \"Gummy bears\", \"Sour gummies\", \"Licorice\", \"Candy canes\", \"Jelly beans\", \"M&Ms\", \"Skittles\", \"Starburst\", \"Twizzlers\", \"Reese's Pieces\", \"Nerds\", \"Mike and Ike\", \"Snickers\", \"Kit Kats\", \"Milky Way\", \"Hershey's Kisses\", \"Tootsie Rolls\", \"Jawbreakers\", \"Lollipops\"],\n",
    "\"Candy - 2\" : [\"Rock candy\", \"Cotton candy\", \"Taffy\", \"Fudge\", \"Truffles\", \"Peanut brittle\", \"Mints\", \"Caramel\", \"Marshmallows\", \"Popcorn\", \"Pretzels\", \"Trail mix\", \"Granola bars\", \"Nuts\", \"Dried fruit\", \"Beef jerky\", \"Protein bars\", \"Gum\", \"Breath mints\"],\n",
    "\"Stationary - 1\" : [\"Pens\", \"Pencils\", \"Markers\", \"Highlighters\", \"Crayons\"],\n",
    "\"Stationary - 2\" : [\"Colored pencils\", \"Erasers\", \"Sharpies\", \"Permanent markers\", \"Whiteboard markers\", \"Mechanical pencils\", \"Notebooks\",\"Loose leaf paper\", \"Sticky notes\", \"Envelopes\", \"Folders\", \"Binders\"],\n",
    "\"Stationary - 3\" : [\"Index cards\", \"Paper clips\", \"Staplers\", \"Tape\", \"Glue sticks\", \"Scissors\", \"Rulers\", \"Calculators\", \"Backpacks\",\"Lunch boxes\", \"Water bottles\", \"Planners\"],\n",
    "\"Stationary - 4\" : [\"Calendars\", \"Desk organizers\", \"File cabinets\", \"Bulletin boards\", \"Chalk\"],\n",
    "\"Stationary - 5\" : [\"Chalkboard erasers\", \"Paint\", \"Paint brushes\", \"Canvas\", \"Sketch pads\"],\n",
    "\"Grocery - 1\" : [\"Cereal\", \"Oatmeal\", \"Pasta\", \"Rice\"],\n",
    "\"Grocery - 2\" : [\"Bread crumbs\", \"Flour\", \"Sugar\", \"Salt\", \"Pepper\", \"Spices\", \"Oils\"],\n",
    "\"Grocery - 3\" : [\"Vinegar\", \"Honey\", \"Syrup\",\"Noodles\", \"Mustard Sauce\", \"Chilli sauce\", \"Chocolate chips\"],\n",
    "\"Grocery - 4\" : [\"Garlic Sauce\", \"Baking Soda\",\"Baking Powder\",\"Yeast\", \"Cocoa Powder\", \"Jam\"],\n",
    "\"Grocery - 5\" : [\"Mayonnaise\", \"Ketchup\", \"Mustard\", \"Hot sauce\", \"BBQ sauce\", \"Worcestershire sauce\"],\n",
    "\"Grocery - 6\" : [\"Soy sauce\", \"Teriyaki sauce\", \"Salad dressing\", \"Pickles\", \"Olives\", \"Crackers\"],\n",
    "\"Grocery - 7\" : [\"Chips\", \"Pretzels\", \"Popcorn\", \"Cookies\"],\n",
    "\"Beverages - 1\" : [\"Water\", \"Soda\", \"Juice\", \"Tea\", \"Coffee\", \"Energy drinks\", \"Sports drinks\", \"Flavored water\", \"Sparkling water\", \"Coconut water\", \"Almond milk\", \"Soy milk\", \"Oat milk\", \"Rice milk\", \"Cow's milk\", \"Chocolate milk\", \"Orange juice\", \"Apple juice\", \"Cranberry juice\", \"Grape juice\", \"Pineapple juice\", \"Lemonade\", \"Iced tea\", \"Hot cocoa\", \"Hot cider\", \"Beer\", \"Wine\", \"Liquor\", \"Seltzer\", \"Kombucha\", \"Smoothies\", \"Protein shakes\", \"Meal replacement shakes\", \"Coffee creamer\", \"Lemon-lime soda\", \"Root beer\", \"Ginger ale\", \"Orange soda\", \"Grape soda\", \"Cream soda\"],\n",
    "\"Snacks & Packaged products - 1\" : [\"Chips\", \"Popcorn\", \"Crackers\", \"Pretzels\", \"Granola bars\", \"Protein bars\", \"Energy bars\", \"Cereal bars\"],\n",
    "\"Snacks & Packaged products - 2\" : [\"Trail mix\", \"Nuts\", \"Dried fruit\", \"Candy\", \"Chocolate\", \"Cookies\", \"Pastries\"],\n",
    "\"Snacks & Packaged products - 3\" : [\"Muffins\", \"Donuts\", \"Cupcakes\", \"Brownies\"],\n",
    "\"Snacks & Packaged products - 4\" : [\"Cakes\", \"Pie\", \"Ice cream\", \"Frozen yogurt\", \"Popsicles\", \"Cereal\", \"Oatmeal\", \"Pasta\"],\n",
    "\"Snacks & Packaged products - 5\" : [\"Rice\", \"Canned fruit\", \"Canned vegetables\", \"Canned soup\", \"Canned tuna\", \"Canned chicken\", \"Canned beans\", \"Peanut butter\"],\n",
    "\"Snacks & Packaged products - 6\" : [\"Jelly\", \"Nutella\", \"Snack cakes\", \"Jerky\"],\n",
    "\"Household and Cleaning - 1\" : [\"Toilet paper\", \"Paper towels\", \"Tissues\", \"Trash bags\", \"Cleaning spray\", \"Disinfectant wipes\", \"Laundry detergent\", \"Fabric softener\", \"Dryer sheets\", \"Bleach\", \"All-purpose cleaner\", \"Glass cleaner\", \"Floor cleaner\", \"Dish soap\", \"Dishwasher detergent\", \"Sponges\", \"Scrub brushes\", \"Mops\", \"Brooms\"],\n",
    "\"Household and Cleaning - 2\" : [\"Dustpans\", \"Trash cans\", \"Batteries\", \"Light bulbs\", \"Extension cords\", \"Surge protectors\", \"Ziploc bags\", \"Aluminum foil\", \"Plastic wrap\", \"Food storage containers\", \"Air fresheners\", \"Candles\", \"Matches\", \"Lighter fluid\", \"Insect repellent\", \"Insecticide\", \"Mouse traps\", \"Fly paper\"],\n",
    "\"Pet - 1\" : [\"Dog food\", \"Cat food\", \"Bird food\", \"Fish food\", \"Treats\", \"Chew toys\", \"Bones\", \"Rawhide\", \"Collars\", \"Leashes\", \"Harnesses\"],\n",
    "\"Pet - 2\" : [\"Food bowls\", \"Water bowls\", \"Cat litter\", \"Litter boxes\", \"Litter scoops\", \"Pooper scoopers\", \"Poop bags\", \"Stain remover\", \"Odor remover\", \"Flea and tick prevention\", \"Heartworm prevention\", \"Dental chews\", \"Grooming brushes\", \"Shampoos\", \"Conditioners\", \"De-shedding tools\", \"Nail clippers\", \"Ear cleaner\", \"Eye cleaner\", \"Toys\"],\n",
    "\"Pet - 3\" : [\"Catnip\", \"Scratching posts\", \"Fish tanks\", \"Aquarium gravel\", \"Fish ornaments\", \"Air pumps\", \"Filters\", \"Heaters\", \"Lighting\", \"Reptile food\", \"Reptile habitats\"]\n",
    "}"
   ]
  },
  {
   "cell_type": "code",
   "execution_count": 33,
   "metadata": {},
   "outputs": [
    {
     "name": "stdout",
     "output_type": "stream",
     "text": [
      "{'Fresh Produce - 1': 13, 'Fresh Produce - 2': 13, 'Fresh Produce - 3': 6, 'Fresh Produce - 4': 6, 'Fresh Produce - 5': 6, 'Meat - 1': 15, 'Meat - 2': 15, 'Meat - 3': 7, 'Dairy - 1': 19, 'Dairy - 2': 18, 'Bakery - 1': 25, 'Bakery - 2': 14, 'Frozen Foods - 1': 37, 'Beauty & Health - 1': 6, 'Beauty & Health - 2': 9, 'Beauty & Health - 3': 9, 'Beauty & Health - 4': 9, 'Beauty & Health - 5': 6, 'Candy - 1': 20, 'Candy - 2': 19, 'Stationary - 1': 5, 'Stationary - 2': 12, 'Stationary - 3': 12, 'Stationary - 4': 5, 'Stationary - 5': 5, 'Grocery - 1': 4, 'Grocery - 2': 7, 'Grocery - 3': 7, 'Grocery - 4': 6, 'Grocery - 5': 6, 'Grocery - 6': 6, 'Grocery - 7': 4, 'Beverages - 1': 40, 'Snacks & Packaged products - 1': 8, 'Snacks & Packaged products - 2': 7, 'Snacks & Packaged products - 3': 4, 'Snacks & Packaged products - 4': 8, 'Snacks & Packaged products - 5': 8, 'Snacks & Packaged products - 6': 4, 'Household and Cleaning - 1': 19, 'Household and Cleaning - 2': 18, 'Pet - 1': 11, 'Pet - 2': 20, 'Pet - 3': 11}\n"
     ]
    }
   ],
   "source": [
    "list_1 = {}\n",
    "for i in section_list.keys():\n",
    "    list_1[i] = len(section_list[i])\n",
    "print(list_1)"
   ]
  }
 ],
 "metadata": {
  "kernelspec": {
   "display_name": "Python 3",
   "language": "python",
   "name": "python3"
  },
  "language_info": {
   "codemirror_mode": {
    "name": "ipython",
    "version": 3
   },
   "file_extension": ".py",
   "mimetype": "text/x-python",
   "name": "python",
   "nbconvert_exporter": "python",
   "pygments_lexer": "ipython3",
   "version": "3.10.4"
  },
  "orig_nbformat": 4
 },
 "nbformat": 4,
 "nbformat_minor": 2
}
