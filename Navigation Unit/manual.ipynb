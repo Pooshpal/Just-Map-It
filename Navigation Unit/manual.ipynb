{
 "cells": [
  {
   "cell_type": "code",
   "execution_count": null,
   "metadata": {
    "vscode": {
     "languageId": "plaintext"
    }
   },
   "outputs": [],
   "source": [
    "-       Fresh Produce Section: \n",
    ">   This is where you'll find fresh fruits, vegetables, herbs, and sometimes flowers.\n",
    "\n",
    "-       Meat Section: \n",
    ">   This section is where you'll find fresh meats such as beef, pork, chicken, lamb, and sometimes seafood.\n",
    "\n",
    "-       Dairy Section: \n",
    ">   This section typically includes milk, cheese, yogurt, and other dairy products.\n",
    "\n",
    "-       Bakery Section: \n",
    ">   This is where you'll find fresh bread, pastries, cakes, and other baked goods.\n",
    "\n",
    "-       Frozen Foods Section: \n",
    ">   This section contains frozen fruits and vegetables, ice cream, frozen dinners, and other frozen foods.\n",
    "\n",
    "-       Beauty & Health Section: \n",
    ">   This section includes toiletries, cosmetics, hair care products, and other health and beauty items.\n",
    "\n",
    "-       Candy Section: \n",
    ">   This section is where you'll find candy, and other treats.\n",
    "\n",
    "-       Stationary Section: \n",
    ">   This is where you'll find pens, folders, books and bags.\n",
    "\n",
    "-       Grocery Section: \n",
    ">   This section includes staples like wheat, rice, etc.\n",
    "\n",
    "-       Beverages Section: \n",
    ">   This section includes water, soda, juice, beer, wine, and other drinks.\n",
    "\n",
    "-       Snacks & Packaged products Section: \n",
    ">   This section includes chips, junk, packaged products.\n",
    "\n",
    "-       Household and Cleaning Section: \n",
    ">   This section typically includes cleaning products, paper towels, toilet paper, and other household items.\n",
    "\n",
    "-       Pet Section: \n",
    ">   This section includes pet food, toys, and accessories for dogs, cats, and other animals.\n"
   ]
  },
  {
   "cell_type": "code",
   "execution_count": null,
   "metadata": {},
   "outputs": [],
   "source": []
  },
  {
   "cell_type": "code",
   "execution_count": null,
   "metadata": {},
   "outputs": [],
   "source": [
    "all_section = [\"Fresh Produce Section\",\"Meat Section\",\"Dairy Section\",\"Bakery Section\",\"Frozen Foods Section\",\"Beauty & Health Section\",\"Candy Section\",\"Stationary Section\",\"Grocery Section\",\"Beverages Section\",\"Snacks & Packaged products Section\",\"Household and Cleaning Section\",\"Pet Section\"]"
   ]
  }
 ],
 "metadata": {
  "language_info": {
   "name": "python"
  },
  "orig_nbformat": 4
 },
 "nbformat": 4,
 "nbformat_minor": 2
}
